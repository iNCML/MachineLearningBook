{
 "cells": [
  {
   "cell_type": "markdown",
   "metadata": {
    "id": "0ug5rx7kuG-2"
   },
   "source": [
    "# **Lab 8: Matrix Factorization**\n",
    "\n",
    "---\n",
    "NOTE: This is a lab project accompanying the following book [MLF] and it should be used together with the book.\n",
    "\n",
    "[MLF] *H. Jiang*, \"[Machine Learning Fundamentals: A Concise Introduction](http://wiki.eecs.yorku.ca/user/hj/research:mlfbook)\", Cambridge University Press, 2021.  ([bibtex](http://www.cse.yorku.ca/~huijiang/mlf-jiang.bib))\n",
    "\n",
    "---\n",
    "\n",
    "The aim of this lab is to explore the application of machine learning techniques to the large-scale matrix factorization problem, which has numerous practical uses, such as collaborative filtering for recommendations and latent semantic analysis (LSA) in natural language processing. Specifically, we will employ LSA on the well-known *enwiki8* dataset as a case study to demonstrate how machine learning methods can be used to factorize large-scale sparse matrices derived from extensive text corpora. This will include efficient computation of the loss function, optimization of the loss function using various methods such as the alternating algorithm and stochastic gradient descent (SGD), and a discussion of their practical advantages and disadvantages.\n",
    "\n",
    "*Prerequisites*: basic understanding on JAX, including `jax.numpy` and `jax.grad`."
   ]
  },
  {
   "cell_type": "markdown",
   "metadata": {
    "id": "WH5wUqwQxvnm"
   },
   "source": [
    "### **Example 8.1:**\n",
    "\n",
    "Use `scikit-learn` to construct the word-document matrix (as in Example 7.3.2 on page 142) for the top 10000 most frequent words in the  *enwiki8* dataset, where each paragraph in a line is treated as a document. Next, use `numpy` to implement the Alternating algorithm (Algorithm 7.6 on page 145) to factorize the word-document matrix to derive word vectors with dimension $k=20$. Furthermore, use the `t_SNE` method to visualize the top 500 most frequent words to inspect their semantic relationships. At last, compare the execution times of the alternating algorithm for various word vector dimensions $k=10,20,30$.\n"
   ]
  },
  {
   "cell_type": "code",
   "execution_count": 1,
   "metadata": {
    "id": "rcVYFtEPs2Ix"
   },
   "outputs": [],
   "source": [
    "# download enwiki8 dataset from Google drive\n",
    "\n",
    "#!gdown https://drive.google.com/file/d/1lNpX1UHSKg-o4NQOcGZOr2x4ew0p7S1k 2> /dev/null\n",
    "\n",
    "# OR download enwiki8.txt from YorkU server\n",
    "\n",
    "!wget -q http://www.cse.yorku.ca/~huijiang/enwiki8.txt.zip\n",
    "\n",
    "!unzip -q -o enwiki8.txt.zip"
   ]
  },
  {
   "cell_type": "code",
   "execution_count": 2,
   "metadata": {
    "colab": {
     "base_uri": "https://localhost:8080/"
    },
    "id": "5iNyWlnp0OrM",
    "outputId": "298d3f3b-c156-49a4-884f-67f243318702"
   },
   "outputs": [
    {
     "name": "stdout",
     "output_type": "stream",
     "text": [
      "489860\n"
     ]
    }
   ],
   "source": [
    "# load enwiki8.txt as a python list\n",
    "\n",
    "with open('enwiki8.txt', 'r') as f:\n",
    "  lines = f.readlines()\n",
    "  text = []\n",
    "\n",
    "  for line in lines:\n",
    "    text.append(line)\n",
    "\n",
    "print(len(text))"
   ]
  },
  {
   "cell_type": "code",
   "execution_count": 3,
   "metadata": {
    "colab": {
     "base_uri": "https://localhost:8080/"
    },
    "id": "C34ORWq61nXh",
    "outputId": "d1186490-2ece-45d1-f1f3-dc6335fabaa9"
   },
   "outputs": [
    {
     "name": "stdout",
     "output_type": "stream",
     "text": [
      "(10000, 489860)\n",
      "7734577\n",
      "10000\n"
     ]
    }
   ],
   "source": [
    "# create word-document matrix using scikit-learn\n",
    "\n",
    "from sklearn.feature_extraction.text import CountVectorizer\n",
    "\n",
    "vectorizer = CountVectorizer(max_features=10000)   # vocabulary size = 10000\n",
    "X = vectorizer.fit_transform(text).transpose()     # Note that X is a sparse matrix (scipy.sparse.csr_matrix)\n",
    "print(X.shape)                                     # X: words by documents\n",
    "print(X.count_nonzero())                           # num of non-zero elements\n",
    "\n",
    "dict = vectorizer.get_feature_names_out()          # dictionary\n",
    "print(len(dict))"
   ]
  },
  {
   "cell_type": "markdown",
   "metadata": {
    "id": "5UF7CBdzWEkX"
   },
   "source": [
    "In this laboratory exercise, we use a variation of the loss function\n",
    "$Q(\\mathbf{U},\\mathbf{V})$ presented on page 143. Instead of summing the terms in the loss function, we calculate their average as follows:\n",
    "\n",
    "$$\n",
    "Q(\\mathbf{U}, \\mathbf{V}) = \\frac{1}{|\\Omega|}\\sum_{\\forall (i,j) \\in \\Omega} \\Big(x_{ij}-\\mathbf{u}_i^\\intercal \\mathbf{v}_j \\Big)^2 + \\frac{\\lambda_1}{|\\mathbf{U}|} \\sum_{i} || \\mathbf{u}_i ||^2\n",
    "+ \\frac{\\lambda_2}{|\\mathbf{V}|} \\sum_{j} || \\mathbf{v}_j ||^2\n",
    "$$\n",
    "where $|\\Omega|$ denotes the total number of training samples, and $|\\mathbf{U}|$ and $|\\mathbf{V}|$ stand for the number of elements in matrices $\\mathbf{U}$ and $\\mathbf{V}$."
   ]
  },
  {
   "cell_type": "code",
   "execution_count": 4,
   "metadata": {
    "id": "pkbzdJoXDBwf"
   },
   "outputs": [],
   "source": [
    "import numpy as np\n",
    "\n",
    "### the loss function Q(U,V) as above\n",
    "### naive implementation as loops (NOTE: this function runs VERY SLOWLY)\n",
    "# X: a sparse matrix (scipy.sparse.csr_matrix)\n",
    "# U,V: both dense matrices (X = U @ V.T)\n",
    "def loss_fun(U, V, X, lambda1=0.1, lambda2=0.1):\n",
    "  ind = X.nonzero()\n",
    "  loss = 0.0\n",
    "  n = X.count_nonzero()\n",
    "  for i in range(n):\n",
    "    diff = np.inner(U[ind[0][i],:], V[ind[1][i],:]) - X[ind[0][i],ind[1][i]]\n",
    "    loss += diff*diff\n",
    "  loss = loss/n + lambda1*np.sum(U*U)/U.size + lambda2*np.sum(V*V)/V.size\n",
    "\n",
    "  return loss\n",
    "\n",
    "# vectorized version of loss function Q(U,V) as above\n",
    "# X: a sparse matrix (scipy.sparse.csr_matrix)\n",
    "# U,V: both dense matrices (X = U @ V.T)\n",
    "def loss_fun_vec(U, V, X, lambda1=0.1, lambda2=0.1):\n",
    "  ind = X.nonzero()\n",
    "  diff = np.sum(U[ind[0],:]*V[ind[1],:],axis=1) - np.array(X[ind[0],ind[1]]).squeeze()\n",
    "  loss = np.mean(diff*diff)\n",
    "  loss += lambda1*np.sum(U*U)/U.size + lambda2*np.sum(V*V)/V.size\n",
    "\n",
    "  return loss"
   ]
  },
  {
   "cell_type": "code",
   "execution_count": null,
   "metadata": {
    "colab": {
     "base_uri": "https://localhost:8080/"
    },
    "id": "cHn7d8TJDHUt",
    "outputId": "f62082e4-11cf-4155-816e-66eb4f6151af"
   },
   "outputs": [
    {
     "name": "stdout",
     "output_type": "stream",
     "text": [
      "loss function is computed by loops\n",
      "4min 24s ± 0 ns per loop (mean ± std. dev. of 1 run, 1 loop each)\n",
      "loss function is computed via vectorization\n",
      "3.85 s ± 0 ns per loop (mean ± std. dev. of 1 run, 1 loop each)\n",
      "3.5011850970298286 3.5011850970297513\n"
     ]
    }
   ],
   "source": [
    "# compare running times of these two implementations of the same loss function\n",
    "\n",
    "k=10    # with k=10\n",
    "U = 0.01*np.random.normal(size =(X.shape[0], k))\n",
    "V = 0.01*np.random.normal(size =(X.shape[1], k))\n",
    "print(\"loss function is computed by loops\")\n",
    "%timeit -n1 -r1 loss_fun(U, V, X)\n",
    "print(\"loss function is computed via vectorization\")\n",
    "%timeit -n1 -r1 loss_fun_vec(U, V, X)\n",
    "\n",
    "f1 = loss_fun(U, V, X)\n",
    "f2 = loss_fun_vec(U, V, X)\n",
    "print(f1,f2)"
   ]
  },
  {
   "cell_type": "code",
   "execution_count": 33,
   "metadata": {
    "id": "8OQ6yMGZUXsX"
   },
   "outputs": [],
   "source": [
    "### Alternating Algorithm for Matrix Factorization (Algorithm 7.6 on page 145)\n",
    "###\n",
    "# X: a sparse matrix (scipy.sparse.csr_matrix)\n",
    "# k: size for dense vectors\n",
    "def Alternating_MF(X, k=10, lambda1=0.1, lambda2=0.1, max_epoch=10):\n",
    "  # initialize U and V\n",
    "  U = 0.01*np.random.normal(size =(X.shape[0], k))\n",
    "  V = 0.01*np.random.normal(size =(X.shape[1], k))\n",
    "  n = X.count_nonzero()       # number of training samples\n",
    "\n",
    "  loss = loss_fun_vec(U, V, X, lambda1, lambda2)\n",
    "  print(f'epoch = 0: loss = {loss}')\n",
    "\n",
    "  for ep in range(max_epoch):\n",
    "    for i in range(X.shape[0]):\n",
    "      X_row = X.getrow(i)     # extract i-th row in X\n",
    "      ind = X_row.nonzero()   # get 1st,2nd indices for i-th col in X\n",
    "      V_s = V[ind[1],:]\n",
    "      U[i,:] = np.transpose(np.linalg.inv(V_s.T @ V_s + lambda1 * np.identity(k) * n/U.size) @ V_s.T @ X_row[ind[0],ind[1]].T)\n",
    "\n",
    "    for j in range(X.shape[1]):\n",
    "      X_col = X.getcol(j)     # extract j-th col in X\n",
    "      ind = X_col.nonzero()   # get 1st,2nd indices for i-th col in X\n",
    "      U_s = U[ind[0],:]\n",
    "      V[j,:] = np.transpose(np.linalg.inv(U_s.T @ U_s + lambda2 * np.identity(k) * n/V.size) @ U_s.T @ X_col[ind[0],ind[1]].T)\n",
    "\n",
    "    loss = loss_fun_vec(U, V, X, lambda1, lambda2)\n",
    "    print(f'epoch = {ep+1}: loss = {loss}')\n",
    "\n",
    "  return U,V"
   ]
  },
  {
   "cell_type": "code",
   "execution_count": null,
   "metadata": {
    "colab": {
     "base_uri": "https://localhost:8080/"
    },
    "id": "BLS_SQdQiLAa",
    "outputId": "02e013e4-6c60-456f-d8db-87851e5ec236"
   },
   "outputs": [
    {
     "name": "stdout",
     "output_type": "stream",
     "text": [
      "(10000, 489860)\n",
      "epoch = 0: loss = 3.501185032571355\n",
      "epoch = 1: loss = 0.8617650828034207\n",
      "epoch = 2: loss = 0.25140516341247965\n",
      "epoch = 3: loss = 0.18400940713325167\n",
      "epoch = 4: loss = 0.165542581428672\n",
      "epoch = 5: loss = 0.15686812906238512\n",
      "epoch = 6: loss = 0.15146612421227446\n",
      "epoch = 7: loss = 0.14762438719704352\n",
      "epoch = 8: loss = 0.14468731188871045\n",
      "epoch = 9: loss = 0.14233619091473443\n",
      "epoch = 10: loss = 0.14039246163263552\n",
      "(10000, 20) (489860, 20)\n"
     ]
    }
   ],
   "source": [
    "print(X.shape)\n",
    "\n",
    "U,V = Alternating_MF(X,k=20)\n",
    "\n",
    "print(U.shape,V.shape)"
   ]
  },
  {
   "cell_type": "code",
   "execution_count": 46,
   "metadata": {
    "colab": {
     "base_uri": "https://localhost:8080/"
    },
    "id": "O4__2mdybWzD",
    "outputId": "6a2c74cf-90ed-4b87-9b83-03673e12fd80"
   },
   "outputs": [
    {
     "name": "stdout",
     "output_type": "stream",
     "text": [
      "(10000, 20) (489860, 20)\n",
      "(10000, 2)\n"
     ]
    }
   ],
   "source": [
    "# train TSNE to project word vectors to 2-D space for visualization\n",
    "#\n",
    "from sklearn.manifold import TSNE\n",
    "\n",
    "print(U.shape,V.shape)\n",
    "\n",
    "tsne_model_2d = TSNE(perplexity=15, n_components=2, init='pca', n_iter=3000, random_state=32)\n",
    "U_2d = np.array(tsne_model_2d.fit_transform(U))\n",
    "\n",
    "print(U_2d.shape)"
   ]
  },
  {
   "cell_type": "code",
   "execution_count": 48,
   "metadata": {
    "colab": {
     "base_uri": "https://localhost:8080/",
     "height": 484
    },
    "id": "bxy5Kg_zcnIG",
    "outputId": "1d7e162c-4589-4243-ded7-9a9d5d523a3c"
   },
   "outputs": [
    {
     "name": "stderr",
     "output_type": "stream",
     "text": [
      "<ipython-input-48-4cf61c2d0f66>:19: DeprecationWarning: The truth value of an empty array is ambiguous. Returning False, but in future this will result in an error. Use `array.size > 0` to check that an array is not empty.\n",
      "  if i:\n"
     ]
    },
    {
     "data": {
      "image/png": "[encoded data removed]",
      "text/plain": [
       "<Figure size 640x480 with 1 Axes>"
      ]
     },
     "metadata": {},
     "output_type": "display_data"
    }
   ],
   "source": [
    "# use matplotlib to display some representative words using their tSNE projections in a 2-D plane\n",
    "#\n",
    "import matplotlib.pyplot as plt\n",
    "import matplotlib.cm as cm\n",
    "\n",
    "some_words = np.array(['abuse','anxiety','baby','boy','car','credit','disaster','crisis','family','film','food','history',\n",
    "                      'hospital','hotel','love','loss','money','moon','music','peace','stupid','woman','world','travel','tiger',\n",
    "                      'secret','sea','secretary','professor','radio','president','profit','price','nurse','man','marriage','example',\n",
    "                      'fear','fruit','japanese','israel','king','queen','smile','science','reason'])\n",
    "\n",
    "x = []\n",
    "y = []\n",
    "txts = []\n",
    "\n",
    "indices = np.random.permutation(len(some_words))\n",
    "\n",
    "for wd in some_words[indices]:\n",
    "  i = np.where(dict == wd)[0]\n",
    "  if i:\n",
    "    x.append(U_2d[i][0][0])\n",
    "    y.append(U_2d[i][0][1])\n",
    "    txts.append(dict[i])\n",
    "\n",
    "colors = cm.rainbow(np.linspace(0, 1, len(txts)))\n",
    "\n",
    "fig, ax = plt.subplots()\n",
    "ax.scatter(x, y, c=colors, alpha=1.0)\n",
    "\n",
    "for i, txt in enumerate(txts):\n",
    "    ax.annotate(txt, (x[i], y[i]))"
   ]
  },
  {
   "cell_type": "code",
   "execution_count": null,
   "metadata": {
    "colab": {
     "background_save": true,
     "base_uri": "https://localhost:8080/"
    },
    "id": "4RM3b6EOreFF",
    "outputId": "1b4fe60f-3139-4ab0-86d7-e28b925c8bf3"
   },
   "outputs": [
    {
     "name": "stdout",
     "output_type": "stream",
     "text": [
      "k=10\n",
      "epoch = 0: loss = 3.5011858711912907\n",
      "epoch = 1: loss = 1.295887435199746\n",
      "13min 21s ± 0 ns per loop (mean ± std. dev. of 1 run, 1 loop each)\n",
      "k=20\n",
      "epoch = 0: loss = 3.5011860816718983\n",
      "epoch = 1: loss = 0.871410215063044\n",
      "13min 46s ± 0 ns per loop (mean ± std. dev. of 1 run, 1 loop each)\n",
      "k=30\n",
      "epoch = 0: loss = 3.5011859561122822\n",
      "epoch = 1: loss = 0.5980104570920908\n",
      "14min 47s ± 0 ns per loop (mean ± std. dev. of 1 run, 1 loop each)\n"
     ]
    }
   ],
   "source": [
    "# compare running times of the alternative algorithm (only one epoch) for k=10,20,30\n",
    "\n",
    "print('k=10')\n",
    "%timeit -n1 -r1 Alternating_MF(X,k=10,max_epoch=1)\n",
    "\n",
    "print('k=20')\n",
    "%timeit -n1 -r1 Alternating_MF(X,k=20,max_epoch=1)\n",
    "\n",
    "print('k=30')\n",
    "%timeit -n1 -r1 Alternating_MF(X,k=30,max_epoch=1)"
   ]
  },
  {
   "cell_type": "markdown",
   "metadata": {
    "id": "JoRBC1gVi1yA"
   },
   "source": [
    "### **Example 8.2:**\n",
    "\n",
    "Implement the mini-batch stochastic gradient descent (SGD) method using JAX to factorize the given word-document matrix for $k = 10, 20, 30$. Utilize JAX's automatic differentiation method `jax.grad` to compute the gradient for the specified objective function. Compare the performance of the SGD method with the previously discussed alternating algorithm in terms of execution speed."
   ]
  },
  {
   "cell_type": "code",
   "execution_count": 5,
   "metadata": {
    "id": "g84d9DNPi0GY"
   },
   "outputs": [],
   "source": [
    "### Stochastic Gradient Descent for Matrix Factorization\n",
    "# use jax.grad() to compute the gradient automatically\n",
    "#\n",
    "import numpy as np\n",
    "import scipy.sparse as sparse\n",
    "import jax.numpy as jnp\n",
    "from jax import grad, random, device_put\n",
    "\n",
    "# JAX implementation of vectorized version of loss function Q(U,V) on page 143\n",
    "# X: a sparse matrix (scipy.sparse.csr_matrix)\n",
    "# U,V: both dense matrices (X = U @ V.T)\n",
    "def loss_fun_vec_jax(U, V, X, lambda1=0.1, lambda2=0.1):\n",
    "  ind = X.nonzero()\n",
    "  diff = jnp.sum(U[ind[0],:]*V[ind[1],:],axis=1) - jnp.array(X[ind[0],ind[1]]).squeeze()\n",
    "  loss = jnp.mean(diff*diff)\n",
    "  loss += lambda1*jnp.sum(U*U)/U.size + lambda2*jnp.sum(V*V)/V.size\n",
    "  return loss\n",
    "\n",
    "# X: a sparse matrix (scipy.sparse.csr_matrix)\n",
    "# k: size for dense vectors\n",
    "def SGD_MF_autograd(X, k=10, batch_size=100, lambda1=0.1, lambda2=0.1, max_epoch=10, lr=0.01):\n",
    "  # initialize U and V\n",
    "  key = random.PRNGKey(1033)\n",
    "  U = device_put(0.01*random.normal(key, (X.shape[0], k)))\n",
    "  V = device_put(0.01*random.normal(key, (X.shape[1], k)))\n",
    "  X_index = X.nonzero()\n",
    "\n",
    "  loss = loss_fun_vec_jax(U, V, X, lambda1, lambda2)\n",
    "  print(f'epoch = 0: loss = {loss}')\n",
    "\n",
    "  for ep in range(max_epoch):\n",
    "    n = X.count_nonzero()\n",
    "    indices = np.random.permutation(n)  #randomly shuffle data indices\n",
    "    for batch_start in range(0, n, batch_size):\n",
    "      batch_indices = indices[batch_start:batch_start+batch_size]\n",
    "      X_data = np.squeeze(np.array(X[X_index[0][batch_indices], X_index[1][batch_indices]]))\n",
    "      X_batch = sparse.csr_matrix((X_data,(X_index[0][batch_indices],X_index[1][batch_indices])),shape=X.shape)\n",
    "\n",
    "      [U_grad, V_grad] = grad(loss_fun_vec_jax, argnums=[0,1])(U,V,X_batch)\n",
    "      U -= lr * U_grad\n",
    "      V -= lr * V_grad\n",
    "\n",
    "    loss = loss_fun_vec_jax(U, V, X, lambda1, lambda2)\n",
    "    print(f'epoch = {ep+1}: loss = {loss}')\n",
    "\n",
    "  return U,V"
   ]
  },
  {
   "cell_type": "code",
   "execution_count": 56,
   "metadata": {
    "colab": {
     "base_uri": "https://localhost:8080/"
    },
    "id": "9jtvEgTTohWK",
    "outputId": "8b5cec03-1927-488b-a99f-87cc343f7019"
   },
   "outputs": [
    {
     "name": "stdout",
     "output_type": "stream",
     "text": [
      "epoch = 0: loss = 3.5011855915438623\n",
      "epoch = 1: loss = 1.5676148517906368\n",
      "epoch = 2: loss = 0.7317401051322742\n",
      "epoch = 3: loss = 0.5853945030561969\n",
      "epoch = 4: loss = 0.4686741365913712\n",
      "epoch = 5: loss = 0.3980643598173309\n"
     ]
    }
   ],
   "source": [
    "U,V = SGD_MF_autograd(X,k=10,batch_size=1000,lr=5.0, max_epoch=5)"
   ]
  },
  {
   "cell_type": "code",
   "execution_count": null,
   "metadata": {
    "colab": {
     "base_uri": "https://localhost:8080/"
    },
    "id": "MTfl_JRRWlp9",
    "outputId": "96f409cb-d967-4416-cd0b-f42648698304"
   },
   "outputs": [
    {
     "name": "stdout",
     "output_type": "stream",
     "text": [
      "compute the loss function with numpy:\n",
      "4.31 s ± 602 ms per loop (mean ± std. dev. of 7 runs, 1 loop each)\n",
      "compute the loss function with jax.numpy:\n",
      "3.92 s ± 388 ms per loop (mean ± std. dev. of 7 runs, 1 loop each)\n",
      "3.5011850970297513 3.5011852\n"
     ]
    }
   ],
   "source": [
    "# compare running times of different versions of loss functions\n",
    "#\n",
    "print('compute the loss function with numpy:')\n",
    "%timeit loss_fun_vec(U, V, X)\n",
    "print('compute the loss function with jax.numpy:')\n",
    "%timeit loss_fun_vec_jax(U, V, X)\n",
    "\n",
    "f2 = loss_fun_vec(U, V, X)\n",
    "f3 = loss_fun_vec_jax(U, V, X)\n",
    "print(f2,f3)"
   ]
  },
  {
   "cell_type": "markdown",
   "metadata": {
    "id": "vElcbeiEtPKF"
   },
   "source": [
    "### **Example 8.3:**\n",
    "\n",
    "Rather than employing JAX's automatic differentiation, implement the mini-batch stochastic gradient descent (SGD) method from scratch. Specifically, manually compute the gradient for the given loss function and use it to perform SGD for matrix factorization of the word-document matrix with $k = 10$. Compare the performance of this manually implemented SGD method with the one using JAX's automatic differentiation in Example 8.2 as well as the alternating algorithm in Example 8.1."
   ]
  },
  {
   "cell_type": "markdown",
   "metadata": {
    "id": "DSNVfXyOEKTz"
   },
   "source": [
    "Here, we first derive the formula to compute the gradient for the loss function of one mini-batch.\n",
    "\n",
    "Given any mini-batch $B$ that contain indeices $(i,j)$ of some non-zero  elements in $\\mathbf{X}$, the objective function is written as\n",
    "\n",
    "$$\n",
    "Q(\\mathbf{U}, \\mathbf{V}) = \\frac{1}{|B|}\\sum_{\\forall (i,j) \\in B} \\Big(x_{ij}-\\mathbf{u}_i^\\intercal \\mathbf{v}_j \\Big)^2 + \\frac{\\lambda_1}{|\\mathbf{U}|} \\sum_{i} || \\mathbf{u}_i ||^2\n",
    "+ \\frac{\\lambda_2}{|\\mathbf{V}|} \\sum_{j} || \\mathbf{v}_j ||^2\n",
    "$$\n",
    "where $|B|$ denotes the mini-batch size, and $|\\mathbf{U}|$ and $|\\mathbf{V}|$ stand for the number of elements in matrices $\\mathbf{U}$ and $\\mathbf{V}$.\n",
    "\n",
    "\n",
    "For all $i$ in $B$,\n",
    "$$\n",
    "\\frac{\\partial Q}{\\partial \\mathbf{u}_i } = \\frac{1}{|B|} \\sum_{\\forall j, with (i,j) \\in B}\n",
    "2 \\big(x_{ij} - \\mathbf{u}_i^\\intercal \\mathbf{v}_j \\big) \\mathbf{v}_j  + 2 \\frac{\\lambda_1}{|\\mathbf{U}|} \\mathbf{u}_i\n",
    "$$\n",
    "\n",
    "For all $j$ in $B$,\n",
    "$$\n",
    "\\frac{\\partial Q}{\\partial \\mathbf{v}_j } = \\frac{1}{|B|} \\sum_{\\forall i, with (i,j) \\in B}\n",
    "2 \\big(x_{ij} - \\mathbf{u}_i^\\intercal \\mathbf{v}_j \\big) \\mathbf{u}_i  + 2 \\frac{\\lambda_2}{|\\mathbf{V}|} \\mathbf{v}_j\n",
    "$$"
   ]
  },
  {
   "cell_type": "code",
   "execution_count": 17,
   "metadata": {
    "id": "k86iIrmbPVbX"
   },
   "outputs": [],
   "source": [
    "# use numpy to implement the code to compute the gradient from sractch as above\n",
    "import numpy as np\n",
    "\n",
    "def my_grad(U, V, X_batch, lambda1=0.1, lambda2=0.1):\n",
    "  U_grad = np.zeros_like(U)\n",
    "  V_grad = np.zeros_like(V)\n",
    "  ind = X_batch.nonzero()\n",
    "  n = X_batch.count_nonzero()\n",
    "\n",
    "  diff = np.sum(U[ind[0],:]*V[ind[1],:],axis=1) - np.array(X[ind[0],ind[1]]).squeeze()\n",
    "  for i in range(n):\n",
    "    U_grad[ind[0][i],:] += 2.0*diff[i]*V[ind[1][i],:]/n + 2.0*lambda1*U[ind[0][i],:]/U.size\n",
    "    V_grad[ind[1][i],:] += 2.0*diff[i]*U[ind[0][i],:]/n + 2.0*lambda2*V[ind[1][i],:]/V.size\n",
    "\n",
    "  return U_grad,V_grad"
   ]
  },
  {
   "cell_type": "code",
   "execution_count": 51,
   "metadata": {
    "colab": {
     "base_uri": "https://localhost:8080/"
    },
    "id": "_6K_zCi8UDog",
    "outputId": "84a2a98c-835e-47b4-8c41-8917b2f652a1"
   },
   "outputs": [
    {
     "name": "stdout",
     "output_type": "stream",
     "text": [
      "2.6508717e-11\n",
      "4.0751823e-13\n",
      "JAX's auto-grad():\n",
      "320 ms ± 40 ms per loop (mean ± std. dev. of 7 runs, 1 loop each)\n",
      "my_grad():\n",
      "29.4 ms ± 849 µs per loop (mean ± std. dev. of 7 runs, 10 loops each)\n"
     ]
    }
   ],
   "source": [
    "# compare execution times of my_grad() vs jax.grad()\n",
    "k=20\n",
    "U = 0.01*np.random.normal(size =(X.shape[0], k))\n",
    "V = 0.01*np.random.normal(size =(X.shape[1], k))\n",
    "n = X.count_nonzero()\n",
    "X_index = X.nonzero()\n",
    "\n",
    "indices = np.random.permutation(n)  #randomly shuffle data indices\n",
    "batch_indices = indices[0:1000]\n",
    "X_data = np.squeeze(np.array(X[X_index[0][batch_indices], X_index[1][batch_indices]]))\n",
    "X_batch = sparse.csr_matrix((X_data,(X_index[0][batch_indices],X_index[1][batch_indices])),shape=X.shape)\n",
    "\n",
    "[U_grad1, V_grad1] = grad(loss_fun_vec_jax, argnums=[0,1])(U,V,X_batch)\n",
    "\n",
    "[U_grad2, V_grad2] = my_grad(U, V, X_batch)\n",
    "\n",
    "diff1 = U_grad1 - U_grad2\n",
    "diff2 = V_grad1 - V_grad2\n",
    "print(np.sum(diff1*diff1))\n",
    "print(np.sum(diff2*diff2))\n",
    "\n",
    "print(\"JAX's auto-grad():\")\n",
    "%timeit grad(loss_fun_vec_jax, argnums=[0,1])(U,V,X_batch)\n",
    "print(\"my_grad():\")\n",
    "%timeit my_grad(U, V, X_batch)"
   ]
  },
  {
   "cell_type": "markdown",
   "metadata": {
    "id": "cD_uqxbQYAEh"
   },
   "source": [
    "The above results show that the manual implementation `my_grad()` runs much faster than the JAX's auto_grad method, about 10x faster in the above example."
   ]
  },
  {
   "cell_type": "code",
   "execution_count": 28,
   "metadata": {
    "id": "lnBVrkZjX_Zg"
   },
   "outputs": [],
   "source": [
    "### Stochastic Gradient Descent for Matrix Factorization\n",
    "# use my_grad() to compute the gradient automatically\n",
    "#\n",
    "import numpy as np\n",
    "import scipy.sparse as sparse\n",
    "\n",
    "# X: a sparse matrix (scipy.sparse.csr_matrix)\n",
    "# k: size for dense vectors\n",
    "def SGD_MF_mygrad(X, k=10, batch_size=100, lambda1=0.1, lambda2=0.1, max_epoch=10, lr=0.01):\n",
    "  # initialize U and V\n",
    "  U = 0.01*np.random.normal(size =(X.shape[0], k))\n",
    "  V = 0.01*np.random.normal(size =(X.shape[1], k))\n",
    "  X_index = X.nonzero()\n",
    "\n",
    "  loss = loss_fun_vec(U, V, X, lambda1, lambda2)\n",
    "  print(f'epoch = 0: loss = {loss}')\n",
    "\n",
    "  for ep in range(max_epoch):\n",
    "    n = X.count_nonzero()\n",
    "    indices = np.random.permutation(n)  #randomly shuffle data indices\n",
    "    for batch_start in range(0, n, batch_size):\n",
    "      batch_indices = indices[batch_start:batch_start+batch_size]\n",
    "      X_data = np.squeeze(np.array(X[X_index[0][batch_indices], X_index[1][batch_indices]]))\n",
    "      X_batch = sparse.csr_matrix((X_data,(X_index[0][batch_indices],X_index[1][batch_indices])),shape=X.shape)\n",
    "\n",
    "      [U_grad, V_grad] = my_grad(U,V,X_batch)\n",
    "      U -= lr * U_grad\n",
    "      V -= lr * V_grad\n",
    "\n",
    "    loss = loss_fun_vec(U, V, X, lambda1, lambda2)\n",
    "    print(f'epoch = {ep+1}: loss = {loss}')\n",
    "\n",
    "  return U,V"
   ]
  },
  {
   "cell_type": "code",
   "execution_count": 34,
   "metadata": {
    "colab": {
     "base_uri": "https://localhost:8080/"
    },
    "id": "r21W1v0yoLaR",
    "outputId": "9a8bb850-0bc1-4b97-c85d-9357931e0177"
   },
   "outputs": [
    {
     "name": "stdout",
     "output_type": "stream",
     "text": [
      "alternating algorithm:\n",
      "epoch = 0: loss = 3.501184988321589\n",
      "epoch = 1: loss = 1.3028441997961089\n",
      "14min 18s ± 0 ns per loop (mean ± std. dev. of 1 run, 1 loop each)\n",
      "SGD with my_grad():\n",
      "epoch = 0: loss = 3.501185250869073\n",
      "epoch = 1: loss = 1.5658339774392491\n",
      "7min 59s ± 0 ns per loop (mean ± std. dev. of 1 run, 1 loop each)\n"
     ]
    }
   ],
   "source": [
    "# compare the running times of the alternating algorithm and SGD (with my_grad()) for only one epoch\n",
    "\n",
    "print('alternating algorithm:')\n",
    "%timeit -n1 -r1 Alternating_MF(X,k=10,max_epoch=1)\n",
    "\n",
    "print('SGD with my_grad():')\n",
    "%timeit -n1 -r1 SGD_MF_mygrad(X,k=10,batch_size=1000,lr=5.0,max_epoch=1)"
   ]
  },
  {
   "cell_type": "code",
   "execution_count": 39,
   "metadata": {
    "colab": {
     "base_uri": "https://localhost:8080/"
    },
    "id": "j1A9yEy_xz8F",
    "outputId": "bad128d2-8e40-4783-e73f-deeb00dd32a6"
   },
   "outputs": [
    {
     "name": "stdout",
     "output_type": "stream",
     "text": [
      "SGD with my_grad() with batch_size = 10000:\n",
      "epoch = 0: loss = 3.5011854518346777\n",
      "epoch = 1: loss = 1.278080710366883\n",
      "3min 52s ± 0 ns per loop (mean ± std. dev. of 1 run, 1 loop each)\n",
      "SGD with my_grad() with batch_size = 5000:\n",
      "epoch = 0: loss = 3.5011852338407965\n",
      "epoch = 1: loss = 1.2643951526287158\n",
      "4min 31s ± 0 ns per loop (mean ± std. dev. of 1 run, 1 loop each)\n",
      "SGD with my_grad() with batch_size = 500:\n",
      "epoch = 0: loss = 3.501185302334976\n",
      "epoch = 1: loss = 1.5760852808239176\n",
      "15min 25s ± 0 ns per loop (mean ± std. dev. of 1 run, 1 loop each)\n"
     ]
    }
   ],
   "source": [
    "# compare the running times of SGD (with my_grad()) with various batch sizes\n",
    "\n",
    "print('SGD with my_grad() with batch_size = 10000:')\n",
    "%timeit -n1 -r1 SGD_MF_mygrad(X,k=10,batch_size=10000,lr=50.0,max_epoch=1)\n",
    "\n",
    "print('SGD with my_grad() with batch_size = 5000:')\n",
    "%timeit -n1 -r1 SGD_MF_mygrad(X,k=10,batch_size=5000,lr=25.0,max_epoch=1)\n",
    "\n",
    "print('SGD with my_grad() with batch_size = 500:')\n",
    "%timeit -n1 -r1 SGD_MF_mygrad(X,k=10,batch_size=500,lr=2.5,max_epoch=1)"
   ]
  },
  {
   "cell_type": "code",
   "execution_count": 41,
   "metadata": {
    "colab": {
     "base_uri": "https://localhost:8080/"
    },
    "id": "sWLWvT-2ZFfd",
    "outputId": "57fca6e1-2cee-4852-b7f1-cffd458b6117"
   },
   "outputs": [
    {
     "name": "stdout",
     "output_type": "stream",
     "text": [
      "epoch = 0: loss = 3.5011853743731107\n",
      "epoch = 1: loss = 1.964266665818621\n",
      "epoch = 2: loss = 1.1150749345603548\n",
      "epoch = 3: loss = 0.8651957810980011\n",
      "epoch = 4: loss = 0.7486836666340206\n",
      "epoch = 5: loss = 0.6679032433428455\n",
      "epoch = 6: loss = 0.5954259470955521\n",
      "epoch = 7: loss = 0.5510427046919679\n",
      "epoch = 8: loss = 0.5023076069538065\n",
      "epoch = 9: loss = 0.459891431550706\n",
      "epoch = 10: loss = 0.4173822798800479\n"
     ]
    }
   ],
   "source": [
    "U,V = SGD_MF_mygrad(X,k=10,batch_size=5000,lr=10.0)"
   ]
  },
  {
   "cell_type": "code",
   "execution_count": 42,
   "metadata": {
    "colab": {
     "base_uri": "https://localhost:8080/"
    },
    "id": "74xcJejnRITd",
    "outputId": "2f01da50-72cb-4a5a-a3cd-ab5a4fca5ccd"
   },
   "outputs": [
    {
     "name": "stdout",
     "output_type": "stream",
     "text": [
      "(10000, 10) (489860, 10)\n",
      "(10000, 2)\n"
     ]
    }
   ],
   "source": [
    "# train TSNE to project word vectors to 2-D space for visualization\n",
    "#\n",
    "from sklearn.manifold import TSNE\n",
    "\n",
    "print(U.shape,V.shape)\n",
    "\n",
    "tsne_model_2d = TSNE(perplexity=15, n_components=2, init='pca', n_iter=3000, random_state=32)\n",
    "U_2d = np.array(tsne_model_2d.fit_transform(U))\n",
    "\n",
    "print(U_2d.shape)"
   ]
  },
  {
   "cell_type": "code",
   "execution_count": 44,
   "metadata": {
    "colab": {
     "base_uri": "https://localhost:8080/",
     "height": 484
    },
    "id": "9W5cAaSCRQDm",
    "outputId": "a943f4db-f8f7-43a1-ebba-9640ec7d3f2c"
   },
   "outputs": [
    {
     "name": "stderr",
     "output_type": "stream",
     "text": [
      "<ipython-input-44-4cf61c2d0f66>:19: DeprecationWarning: The truth value of an empty array is ambiguous. Returning False, but in future this will result in an error. Use `array.size > 0` to check that an array is not empty.\n",
      "  if i:\n"
     ]
    },
    {
     "data": {
      "image/png": "[encoded data removed]",
      "text/plain": [
       "<Figure size 640x480 with 1 Axes>"
      ]
     },
     "metadata": {},
     "output_type": "display_data"
    }
   ],
   "source": [
    "# use matplotlib to display some representative words using their tSNE projections in a 2-D plane\n",
    "#\n",
    "import matplotlib.pyplot as plt\n",
    "import matplotlib.cm as cm\n",
    "\n",
    "some_words = np.array(['abuse','anxiety','baby','boy','car','credit','disaster','crisis','family','film','food','history',\n",
    "                      'hospital','hotel','love','loss','money','moon','music','peace','stupid','woman','world','travel','tiger',\n",
    "                      'secret','sea','secretary','professor','radio','president','profit','price','nurse','man','marriage','example',\n",
    "                      'fear','fruit','japanese','israel','king','queen','smile','science','reason'])\n",
    "\n",
    "x = []\n",
    "y = []\n",
    "txts = []\n",
    "\n",
    "indices = np.random.permutation(len(some_words))\n",
    "\n",
    "for wd in some_words[indices]:\n",
    "  i = np.where(dict == wd)[0]\n",
    "  if i:\n",
    "    x.append(U_2d[i][0][0])\n",
    "    y.append(U_2d[i][0][1])\n",
    "    txts.append(dict[i])\n",
    "\n",
    "colors = cm.rainbow(np.linspace(0, 1, len(txts)))\n",
    "\n",
    "fig, ax = plt.subplots()\n",
    "ax.scatter(x, y, c=colors, alpha=1.0)\n",
    "\n",
    "for i, txt in enumerate(txts):\n",
    "    ax.annotate(txt, (x[i], y[i]))"
   ]
  },
  {
   "cell_type": "markdown",
   "metadata": {
    "id": "Z_wNmG8bI65h"
   },
   "source": [
    "## **Exercises**"
   ]
  },
  {
   "cell_type": "markdown",
   "metadata": {
    "id": "V-_O1qiWI__I"
   },
   "source": [
    "### **Problem 8.1:**\n",
    "To assess the quality of word vectors, we can compare the similarities between the derived word vectors to the semantic similarities annotated by humans for the same words. The `WordSim353` dataset provides human-assigned similarity scores for approximately 353 word pairs. For each pair of words in `WordSim353`, calculate the cosine distance between the corresponding derived word vectors. Then, compute the Pearson correlation coefficient between these cosine distances and the human-assigned scores. Discuss the findings from this analysis."
   ]
  },
  {
   "cell_type": "code",
   "execution_count": null,
   "metadata": {
    "id": "iaZjH336M34S"
   },
   "outputs": [],
   "source": [
    "# download WordSim353 dataset from Google Drive\n",
    "#\n",
    "#!gdown https://drive.google.com/file/d/1vzYKmGkKKECwVQgg78imhkNTNLNrXdmU 2> /dev/null\n",
    "\n",
    "# Or download WordSim353 dataset from YorkU server\n",
    "\n",
    "!wget -q http://www.cse.yorku.ca/~huijiang/wordsim353_human_scores.txt"
   ]
  },
  {
   "cell_type": "markdown",
   "metadata": {
    "id": "15Gh6SlydyMM"
   },
   "source": [
    "### **Problem 8.2:**\n",
    "\n",
    "\n",
    "Use either the alternating algorithm or gradient descent method to implement collaborative filtering for a movie recommendation task on the [Netflix Prize dataset](https://www.kaggle.com/datasets/netflix-inc/netflix-prize-data/data)."
   ]
  }
 ],
 "metadata": {
  "colab": {
   "provenance": []
  },
  "kernelspec": {
   "display_name": "Python 3 (ipykernel)",
   "language": "python",
   "name": "python3"
  },
  "language_info": {
   "codemirror_mode": {
    "name": "ipython",
    "version": 3
   },
   "file_extension": ".py",
   "mimetype": "text/x-python",
   "name": "python",
   "nbconvert_exporter": "python",
   "pygments_lexer": "ipython3",
   "version": "3.7.0"
  }
 },
 "nbformat": 4,
 "nbformat_minor": 4
}
