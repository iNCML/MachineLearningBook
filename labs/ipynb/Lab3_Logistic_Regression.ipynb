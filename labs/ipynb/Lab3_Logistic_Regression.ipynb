{
 "cells": [
  {
   "cell_type": "markdown",
   "metadata": {
    "id": "mS0XanoSK3r7"
   },
   "source": [
    "# **Lab 3: Logistic Regression**\n",
    "\n",
    "---\n",
    "NOTE: This is a lab project accompanying the following book [MLF] and it should be used together with the book.\n",
    "\n",
    "[MLF] *H. Jiang*, \"[Machine Learning Fundamentals: A Concise Introduction](http://wiki.eecs.yorku.ca/user/hj/research:mlfbook)\", Cambridge University Press, 2021.  ([bibtex](http://www.cse.yorku.ca/~hj/mlf-jiang.bib))\n",
    "\n",
    "---\n"
   ]
  },
  {
   "cell_type": "markdown",
   "metadata": {
    "id": "GgpH3COyLEyN"
   },
   "source": [
    "The purpose of this lab is to apply a group of closely-related machine learning methods for linear models to pattern classification tasks, including logistic regression, minimum classification error (MCE) and log-linear models. As opposed to linear regression, these methods are particularly designed to solve classification problems. As a result, they normally outperform linear regression in most classification problems. However, these methods do not have a closed-form solution so that we will have to rely on iterative optimization methods to learn them iteratively from training data. In this project, we will give a full implementation for logistic regression and leave MCE and log-linear models as exercises. \n",
    "Readers may use the given logistic regression codes as a template to implement the other two methods.  \n",
    "\n",
    "Prerequisites: N/A"
   ]
  },
  {
   "cell_type": "markdown",
   "metadata": {
    "id": "Y5I2H5mbMvRB"
   },
   "source": [
    "## **I. Logistic Regression**"
   ]
  },
  {
   "cell_type": "markdown",
   "metadata": {
    "id": "-bVZsfEyNCN2"
   },
   "source": [
    "### **Example 3.1:**\n",
    "\n",
    "Use logistic regression to build a binary classifier to classify two digits ('3' and '8') in the MNIST data set. Use the mini-batch stochastic gradient descent (SGD) method to learn it from training data, and compare the results with those of linear regression in Problem 2.2."
   ]
  },
  {
   "cell_type": "code",
   "execution_count": 1,
   "metadata": {
    "colab": {
     "base_uri": "https://localhost:8080/"
    },
    "id": "boyhrw2tN2Io",
    "outputId": "31e3b3ea-1cc8-4e18-9c7b-b4b5a932805d"
   },
   "outputs": [
    {
     "name": "stdout",
     "output_type": "stream",
     "text": [
      "Processing file 1Jf2XqGR7y1fzOZNKLJiom7GmZZUzXhfs t10k-images-idx3-ubyte\n",
      "Processing file 1qiYu9dW3ZNrlvTFO5fI4qf8Wtr8K-pCu t10k-labels-idx1-ubyte\n",
      "Processing file 1SnWvBcUETRJ53rEJozFUUo-hOQFPKxjp train-images-idx3-ubyte\n",
      "Processing file 1kKEIi_pwVHmabByAnwZQsaMgro9XiBFE train-labels-idx1-ubyte\n",
      "Building directory structure completed\n",
      "Looking in indexes: https://pypi.org/simple, https://us-python.pkg.dev/colab-wheels/public/simple/\n",
      "Collecting python_mnist\n",
      "  Downloading python_mnist-0.7-py2.py3-none-any.whl (9.6 kB)\n",
      "Installing collected packages: python_mnist\n",
      "Successfully installed python_mnist-0.7\n"
     ]
    }
   ],
   "source": [
    "# download MNIST data from Google drive\n",
    "\n",
    "!gdown --folder https://drive.google.com/drive/folders/1r20aRjc2iu9O3kN3Xj9jNYY2uMgcERY1 2> /dev/null\n",
    "\n",
    "# install python_mnist\n",
    "\n",
    "!pip install python_mnist"
   ]
  },
  {
   "cell_type": "code",
   "execution_count": 2,
   "metadata": {
    "colab": {
     "base_uri": "https://localhost:8080/"
    },
    "id": "ghnTpQOPN-Yq",
    "outputId": "a2e028d1-c420-4a46-b208-b0fe773385cd"
   },
   "outputs": [
    {
     "name": "stdout",
     "output_type": "stream",
     "text": [
      "(60000, 784) (60000,) (10000, 784) (10000,)\n"
     ]
    }
   ],
   "source": [
    "#load MINST images\n",
    "\n",
    "from mnist import MNIST\n",
    "import numpy as np\n",
    "\n",
    "mnist_loader = MNIST('MNIST')\n",
    "train_data, train_label = mnist_loader.load_training()\n",
    "test_data, test_label = mnist_loader.load_testing()\n",
    "train_data = np.array(train_data, dtype='float')/255 # norm to [0,1]\n",
    "train_label = np.array(train_label, dtype='short')\n",
    "test_data = np.array(test_data, dtype='float')/255 # norm to [0,1]\n",
    "test_label = np.array(test_label, dtype='short')\n",
    "\n",
    "#add small random noise to avoid matrix singularity\n",
    "train_data += np.random.normal(0,0.0001,train_data.shape) \n",
    "\n",
    "print(train_data.shape, train_label.shape, test_data.shape, test_label.shape)"
   ]
  },
  {
   "cell_type": "code",
   "execution_count": null,
   "metadata": {
    "id": "_QwgeioWOHVu"
   },
   "outputs": [],
   "source": [
    "# prepare digits '3' and '8' for logisic regression\n",
    "\n",
    "digit_train_index = np.logical_or(train_label == 3, train_label == 8)\n",
    "X_train = train_data[digit_train_index]\n",
    "y_train = train_label[digit_train_index]\n",
    "digit_test_index = np.logical_or(test_label == 3, test_label == 8)\n",
    "X_test = test_data[digit_test_index]\n",
    "y_test = test_label[digit_test_index]\n",
    "\n",
    "# add a constant column of '1' to accomodate the bias (see the margin note on page 107)\n",
    "X_train = np.hstack((X_train, np.ones((X_train.shape[0], 1), dtype=X_train.dtype)))\n",
    "X_test = np.hstack((X_test, np.ones((X_test.shape[0], 1), dtype=X_test.dtype)))\n",
    "\n",
    "# converge labels: '3' => -1, '8' => +1\n",
    "CUTOFF = 5 # any number between '3' and '8'\n",
    "y_train = np.sign(y_train-CUTOFF)\n",
    "y_test = np.sign(y_test-CUTOFF)"
   ]
  },
  {
   "cell_type": "markdown",
   "metadata": {
    "id": "gW-3g2Q1O7qI"
   },
   "source": [
    "As shown in Eq.(6.16) on page 115, the objective function in logistic regression is given as:\n",
    "$$\n",
    "Q(\\mathbf{w}) = -\\ln L(\\mathbf{w}) = - \\frac{1}{N}\\sum_{i=1}^N  \\ln  l( y_i \\mathbf{w}^\\intercal \\mathbf{x}_i )\n",
    "$$\n",
    "and the gradient can be easily computed as in Eq.(6.17):\n",
    "\\begin{eqnarray}\n",
    "\\frac{\\partial Q(\\mathbf{w})}{\\partial \\mathbf{w}}\n",
    "& = & -\\frac{1}{N}\\sum_{i=1}^N y_i \\Big( 1 - l( y_i \\mathbf{w}^\\intercal \\mathbf{x}_i ) \\Big) \\mathbf{x}_i  \\nonumber \\\\\n",
    "& = & \\frac{1}{N}\\sum_{i=1}^N  \\Big(y_i \\, l( y_i \\mathbf{w}^\\intercal \\mathbf{x}_i) -y_i\\Big) \\mathbf{x}_i \n",
    "\\end{eqnarray}\n",
    "where $l(\\cdot)$ denotes the sigmoid function (see Eq.(6.12) on page 114)."
   ]
  },
  {
   "cell_type": "markdown",
   "metadata": {
    "id": "jV30m_YLQFUO"
   },
   "source": [
    "Here let us consider how to manipulate the above results to derive a vectorization formula for us to compute the gradients for all feature vectors in a mini-batch. Assume a mini-batch is given as $\\mathcal{B} = \\big\\{ \n",
    "  \\mathbf{x}_1, \\mathbf{x}_2, \\cdots, \\mathbf{x}_B \\big\\}$, the average gradient for this mini-batch is computed as:\n",
    "  $$\n",
    "   \\frac{\\partial Q(\\mathbf{w}; \\mathcal{B} )}{\\partial \\mathbf{w}}\n",
    "   = \\frac{1}{B} \\sum_{i=1}^B  \\Big( y_i \\, l( y_i \\mathbf{w}^\\intercal \\mathbf{x}_i) - y_i \\Big) \\mathbf{x}_i\n",
    "  $$ \n",
    "\n",
    "As the way on page 112, we first pack all $\\mathbf{x}_i$ in $\\mathcal{B}$ row by row as a matrix $\\mathbf{X}  \\in \\mathbb{R}^{B \\times d}$, and all $y_i $ as a column vector $\\mathbf{y} \\in \\mathbb{R}^{B}$, we can verify that the above gradient can be computed equivalently by the following matrix operation:\n",
    "$$\n",
    "\\frac{\\partial Q(\\mathbf{w}; \\mathcal{B} )}{\\partial \\mathbf{w}} \n",
    " =  \\frac{1}{B} \\; \\mathbf{X}^\\intercal \\Big[ \\mathbf{y} \\odot  l \\big(\\mathbf{y} \\odot ( \\mathbf{X} \\mathbf{w})\\big) - \\mathbf{y}  \\Big] \\;\\;\\;\\;\\;\\;\\; \\big(\\in \\mathbb{R}^{d}\\big)\n",
    "$$\n",
    "where $\\odot$ denotes element-wise multiplication.\n",
    "\n",
    "Similarly, if we pack all samples in the training set as $\\mathbf{X} \\in \\mathbb{R}^{N \\times d}$ and $\\mathbf{y} \\in \\mathbb{R}^{N}$ in the same way, we can compute the above loss function $Q(\\mathbf{w})$ via vectorization as the mean of all elements in the following vector:\n",
    "$$\n",
    "-\\ln \\Big( l \\big(\\mathbf{y} \\odot ( \\mathbf{X} \\mathbf{w})\\big) \\Big) \\;\\;\\;\\;\\;\\;\\; \\big(\\in \\mathbb{R}^{N}\\big)\n",
    "$$"
   ]
  },
  {
   "cell_type": "code",
   "execution_count": null,
   "metadata": {
    "id": "KYY96arqRPPd"
   },
   "outputs": [],
   "source": [
    "# solve logistic regression using mini-batch gradient descent \n",
    "import numpy as np\n",
    "\n",
    "class Optimizer():\n",
    "  def __init__(self, lr, annealing_rate, batch_size, max_epochs):\n",
    "    self.lr = lr\n",
    "    self.annealing_rate = annealing_rate\n",
    "    self.batch_size = batch_size\n",
    "    self.max_epochs = max_epochs\n",
    "\n",
    "# sigmoid for numpy arrays\n",
    "def sigmoid(x):\n",
    "  return 1/(1 + np.exp(-x))\n",
    "\n",
    "# X[N,d]: training features; y[N]: training targets; \n",
    "# X2[N,d]: test features; y2[N]: test targets;  \n",
    "# op: hyper-parameters for optimzer \n",
    "#\n",
    "# Note: X2 and y2 are not used in training\n",
    "#       but only for computting the learning curve B\n",
    "#\n",
    "def logistic_regression_gd(X, y, X2, y2, op):\n",
    "  n = X.shape[0]            # number of samples\n",
    "  w = np.zeros(X.shape[1])  # initialization\n",
    "\n",
    "  lr = op.lr\n",
    "  errorsA = np.zeros(op.max_epochs)\n",
    "  errorsB = np.zeros(op.max_epochs)\n",
    "  errorsC = np.zeros(op.max_epochs)\n",
    "\n",
    "  for epoch in range(op.max_epochs):\n",
    "    indices = np.random.permutation(n)  #randomly shuffle data indices\n",
    "    for batch_start in range(0, n, op.batch_size):\n",
    "      X_batch = X[indices[batch_start:batch_start + op.batch_size]]\n",
    "      y_batch = y[indices[batch_start:batch_start + op.batch_size]]\n",
    "\n",
    "      # vectorization to compute gradients for a whole mini-batch (see the above formula)\n",
    "      w_grad = X_batch.T @ (y_batch * sigmoid(y_batch * (X_batch @ w)) - y_batch) / X_batch.shape[0] \n",
    "\n",
    "      w -= lr * w_grad \n",
    "\n",
    "    # for learning curve C\n",
    "    errorsC[epoch]  = - np.mean(np.log( sigmoid(y * (X @ w))) )  # logisic regression loss function\n",
    "                                                                 # see the above formula \n",
    "    # for learning curve A\n",
    "    predict = np.sign(X @ w)\n",
    "    errorsA[epoch] = np.count_nonzero(np.equal(predict,y))/y.size \n",
    "\n",
    "    # for learning curve B\n",
    "    predict2 = np.sign(X2 @ w)\n",
    "    errorsB[epoch] = np.count_nonzero(np.equal(predict2,y2))/y2.size\n",
    "\n",
    "    lr *= op.annealing_rate\n",
    "\n",
    "  print(f'epoch={epoch}: the logistic regression loss is C={errorsC[epoch]:.3f} (A={errorsA[epoch]:.3f},B={errorsB[epoch]:.3f})')\n",
    "  return w, errorsA, errorsB, errorsC"
   ]
  },
  {
   "cell_type": "code",
   "execution_count": null,
   "metadata": {
    "colab": {
     "base_uri": "https://localhost:8080/",
     "height": 329
    },
    "id": "x4ySO1w4u4m1",
    "outputId": "02d6f5ad-151f-42db-a527-cd23710a5ebe"
   },
   "outputs": [
    {
     "name": "stdout",
     "output_type": "stream",
     "text": [
      "epoch=49: the logistic regression loss is C=0.093 (A=0.973,B=0.969)\n"
     ]
    },
    {
     "data": {
      "text/plain": [
       "<matplotlib.legend.Legend at 0x7f90ef25c510>"
      ]
     },
     "execution_count": 135,
     "metadata": {},
     "output_type": "execute_result"
    },
    {
     "data": {
      "image/png": "[encoded data removed]",
      "text/plain": [
       "<Figure size 432x288 with 2 Axes>"
      ]
     },
     "metadata": {
      "needs_background": "light"
     },
     "output_type": "display_data"
    }
   ],
   "source": [
    "import matplotlib.pyplot as plt\n",
    "\n",
    "op = Optimizer(lr=0.02, annealing_rate=0.99, batch_size=20, max_epochs=50)\n",
    "\n",
    "w, A, B, C = logistic_regression_gd(X_train, y_train, X_test, y_test, op)\n",
    "\n",
    "fig, ax = plt.subplots(2)\n",
    "fig.suptitle('monitoring three learning curves (A, B, C)')\n",
    "ax[0].plot(C, 'b')\n",
    "ax[0].legend(['curve C', 'closed-form solution'])\n",
    "\n",
    "ax[1].plot(A, 'b', B, 'r')\n",
    "ax[1].legend(['curve A', 'curve B'])"
   ]
  },
  {
   "cell_type": "code",
   "execution_count": null,
   "metadata": {
    "colab": {
     "base_uri": "https://localhost:8080/",
     "height": 329
    },
    "id": "zfAV328uDPax",
    "outputId": "4901a180-6990-407a-f1f2-db638c8e4e4d"
   },
   "outputs": [
    {
     "name": "stdout",
     "output_type": "stream",
     "text": [
      "epoch=99: the logistic regression loss is C=0.090 (A=0.973,B=0.968)\n"
     ]
    },
    {
     "data": {
      "text/plain": [
       "<matplotlib.legend.Legend at 0x7f90efcc5990>"
      ]
     },
     "execution_count": 136,
     "metadata": {},
     "output_type": "execute_result"
    },
    {
     "data": {
      "image/png": "[encoded data removed]",
      "text/plain": [
       "<Figure size 432x288 with 2 Axes>"
      ]
     },
     "metadata": {
      "needs_background": "light"
     },
     "output_type": "display_data"
    }
   ],
   "source": [
    "import matplotlib.pyplot as plt\n",
    "\n",
    "op = Optimizer(lr=0.05, annealing_rate=0.99, batch_size=50, max_epochs=100)\n",
    "\n",
    "w, A, B, C = logistic_regression_gd(X_train, y_train, X_test, y_test, op)\n",
    "\n",
    "fig, ax = plt.subplots(2)\n",
    "fig.suptitle('monitoring three learning curves (A, B, C)')\n",
    "ax[0].plot(C, 'b')\n",
    "ax[0].legend(['curve C', 'closed-form solution'])\n",
    "\n",
    "ax[1].plot(A, 'b', B, 'r')\n",
    "ax[1].legend(['curve A', 'curve B'])"
   ]
  },
  {
   "cell_type": "markdown",
   "metadata": {
    "id": "daLUOCGeE6je"
   },
   "source": [
    "From the above two settings, we can see that gradient descent can significantly reduce the logistic regression loss throughout the learning process. However, classificaion accuracies on both training and test sets do NOT improve too much after epoch 5. Moreover, the performance gap between A and B is fairly small no matter how we fine-tune the hyper-parameters. This suggests that linear models may be too simple to perfectly classify these two digits. \n",
    "\n",
    "Comparing with linear regression in Example 2.2, we can see that training accuracy (curve **A**) can be significantly improved in logistic regression while training accuracy (curve **A**) of linear regression constantly stay below curve **B**. This suggests that the loss function of logistic regression is more closely related to the actual zero-one loss in pattern classification than that of linear regression. Moreover, in this task, logistic regression  only slightly outperforms linear regression in the unseen test set (96.9% vs. 95.9%). This also suggests that linear models may be too simple for this binary classification task. "
   ]
  },
  {
   "cell_type": "markdown",
   "metadata": {
    "id": "xHVEai_bGWRD"
   },
   "source": [
    "Finally, let us use the logistic regression implementation from *sciki-learn* to repeat the above binary classification task. "
   ]
  },
  {
   "cell_type": "code",
   "execution_count": null,
   "metadata": {
    "colab": {
     "base_uri": "https://localhost:8080/"
    },
    "id": "OhS-TlS8yXtZ",
    "outputId": "1e30751f-1a7f-428f-8bde-49887780a300"
   },
   "outputs": [
    {
     "name": "stdout",
     "output_type": "stream",
     "text": [
      "training accuracy: 0.9778000333834085\n",
      "test accuracy: 0.9662298387096774\n"
     ]
    }
   ],
   "source": [
    "# use logistic regression from sklearn\n",
    "\n",
    "from sklearn.linear_model import LogisticRegression\n",
    "\n",
    "# create a logistic regression model\n",
    "log_reg = LogisticRegression(max_iter=10000)\n",
    "\n",
    "# training: fit the training data\n",
    "log_reg.fit(X_train,y_train)\n",
    "\n",
    "# measure the training accuracy \n",
    "print(f'training accuracy: {log_reg.score(X_train,y_train)}')\n",
    "\n",
    "# predit the test data\n",
    "predict = log_reg.predict(X_test)\n",
    "\n",
    "print(f'test accuracy: {log_reg.score(X_test,y_test)}')"
   ]
  },
  {
   "cell_type": "markdown",
   "metadata": {
    "id": "l6p8zPvAGDit"
   },
   "source": [
    "## **Exercises**"
   ]
  },
  {
   "cell_type": "markdown",
   "metadata": {
    "id": "NszsetFMGJJ_"
   },
   "source": [
    "### **Problem 3.1:  MCE**\n",
    "\n",
    "Following Example 3.1, implement minimum classification error (MCE) method in Section 6.3 (page 113) to learn a binary linear classifier to classify two digits ('3' and '8') in the MNIST data set. Compare its performance with that of logistic regress in Example 3.1 and that of linear regression in Example 2.2."
   ]
  },
  {
   "cell_type": "markdown",
   "metadata": {
    "id": "LLpYAaEyGMa0"
   },
   "source": [
    "### **Problem 3.2: Log-linear Models**\n",
    "\n",
    "Use the *softmax* function, i.e. Eq.(6.18) on page 115, to extend the logistic regression model in Example 3.1 from a binary classifier for 2-class tasks to a more general classifier that can deal with multiple-class classification problems. Based on the softmax function, build a 10-class classifier to classify all ten digits in the MNIST data set. \n",
    "\n",
    "*Hints:*\n",
    "1.   Better to encode all 10-class targets using the *one-hot encoding* method, namely, the correct label of each digit is represented as a 10-dimension vector, containing all 0s but a single 1 in the position corresponding to its correct class label. \n",
    "2.   Note that this multi-class extension for logistic regression is also called *log-linear models* (see Section 11.4.3).\n",
    "\n"
   ]
  }
 ],
 "metadata": {
  "colab": {
   "provenance": []
  },
  "kernelspec": {
   "display_name": "Python 3",
   "language": "python",
   "name": "python3"
  },
  "language_info": {
   "codemirror_mode": {
    "name": "ipython",
    "version": 3
   },
   "file_extension": ".py",
   "mimetype": "text/x-python",
   "name": "python",
   "nbconvert_exporter": "python",
   "pygments_lexer": "ipython3",
   "version": "3.7.0"
  }
 },
 "nbformat": 4,
 "nbformat_minor": 4
}
