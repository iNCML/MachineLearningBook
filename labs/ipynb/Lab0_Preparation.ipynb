{
 "cells": [
  {
   "cell_type": "markdown",
   "metadata": {
    "id": "MLnkwM9vIq4f"
   },
   "source": [
    "# **Lab 0: Preparation**\n",
    "\n",
    "---\n",
    "NOTE: This is a lab project accompanying the following book [MLF] and it should be used together with the book.\n",
    "\n",
    "[MLF] *H. Jiang*, \"[Machine Learning Fundamentals: A Concise Introduction](http://wiki.eecs.yorku.ca/user/hj/research:mlfbook)\", Cambridge University Press, 2021.  ([bibtex](http://www.cse.yorku.ca/~hj/mlf-jiang.bib))\n",
    "\n",
    "---\n",
    "\n"
   ]
  },
  {
   "cell_type": "markdown",
   "metadata": {
    "id": "Sn7ssGreOdNE"
   },
   "source": [
    "The purpose of this lab is to introduce *vectorization*-based programming style, which is essential for implementing machine learning algorithms using some high-level programming languages (such as Python, Matlab), and then give some recipes on how to load data sets that will be used in all projects in the book [MLF].  \n",
    "\n",
    "*Prerequisites*: basic understanding on Python, Numpy and JAX.  "
   ]
  },
  {
   "cell_type": "markdown",
   "metadata": {
    "id": "5RrgA9hhP8ww"
   },
   "source": [
    "## **I. Programming via Vectorization**\n",
    "\n"
   ]
  },
  {
   "cell_type": "markdown",
   "metadata": {
    "id": "gEqFnI8X-aa1"
   },
   "source": [
    "*Vectorization* is a special programing style for numerical computation, in which we packs all arguments into vectors/matrices and casts all numerical operations as matrix operations. By doing so, we try to get rid of loops and array indexing so as to deliver clean and effecient programs even when they are written in high-level programming languages, such as Python, Matlab. \n",
    "\n",
    "**Vectorization**: programming using vectors, matrices, and even tensors without explicitly looping, indexing, conditioning over vector/matrix/tensor elements. \n",
    "\n",
    "**Advantages**: \n",
    "1.   vectorized codes are more concise and easier to read. \n",
    "2.   vectorized codes run much faster in high-level languages, such as Python/Numpy, Matlab and so on. \n",
    "3.   vectorized codes can easily utilize parallel units  in powerful computing hardwares (such as multi-core CPUs or GPUs) to yield further speed-up.\n",
    "\n",
    "\n",
    "The key idea in vectorization-based programming is to use linear algebra techniques to pack the data into vectors / matrices /tensors. In the following, let us use two simple examples to explain how to write efficient vectorization-based codes, and further show how much faster these vectorized codes can run compared with the regular programming style (in either CPUs or GPUs). "
   ]
  },
  {
   "cell_type": "markdown",
   "metadata": {
    "id": "rmfyrm4gSeVz"
   },
   "source": [
    "### **Example 0.1**\n",
    "clipping all elements in a vector/matrix to  [0,1]."
   ]
  },
  {
   "cell_type": "markdown",
   "metadata": {
    "id": "9MjZasASD4Sl"
   },
   "source": [
    "**1.1  POOR** programming style using loops, indexing and conditioning "
   ]
  },
  {
   "cell_type": "code",
   "execution_count": null,
   "metadata": {
    "id": "sM5zjVMzSllk"
   },
   "outputs": [],
   "source": [
    "def clip_loops(A):\n",
    "  for i in range(A.shape[0]):\n",
    "    for j in range(A.shape[1]):\n",
    "      if (A[i,j] > 1):\n",
    "        A[i,j] = 1\n",
    "      elif (A[i,j] < 0):\n",
    "        A[i,j] = 0\n",
    "\n",
    "  return A"
   ]
  },
  {
   "cell_type": "markdown",
   "metadata": {
    "id": "pQcbP_ZdSzh-"
   },
   "source": [
    "**1.2** use a *numpy* function *clip( )* to do it efficiently "
   ]
  },
  {
   "cell_type": "code",
   "execution_count": null,
   "metadata": {
    "id": "FTfKAKTdIgc5"
   },
   "outputs": [],
   "source": [
    "import numpy as np\n",
    "\n",
    "A = np.clip(A,0,1)"
   ]
  },
  {
   "cell_type": "markdown",
   "metadata": {
    "id": "zzNNGnLwWF7y"
   },
   "source": [
    "**1.3** Running on a random matrix to compare their results and run-in speed. "
   ]
  },
  {
   "cell_type": "code",
   "execution_count": null,
   "metadata": {
    "colab": {
     "base_uri": "https://localhost:8080/"
    },
    "id": "H21cN-8mVD__",
    "outputId": "f18f699c-071f-4a10-cf30-4e3e22eaf478"
   },
   "outputs": [
    {
     "name": "stdout",
     "output_type": "stream",
     "text": [
      "0.0\n",
      "1 loop, best of 5: 3.61 s per loop\n",
      "100 loops, best of 5: 11.5 ms per loop\n"
     ]
    }
   ],
   "source": [
    "import numpy as np\n",
    "\n",
    "X = np.random.normal(size=(5000,784))*1.5\n",
    "\n",
    "X1 = clip_loops(X)\n",
    "X2 = np.clip(X,0,1)\n",
    "\n",
    "print(np.sum((X1-X2)*(X1-X2)))\n",
    "\n",
    "%timeit clip_loops(X)\n",
    "%timeit np.clip(X,0,1)"
   ]
  },
  {
   "cell_type": "markdown",
   "metadata": {
    "id": "y1SOkzJXVhzm"
   },
   "source": [
    "**1.4** Summary:\n",
    "\n",
    "\n",
    "1.   Vectorized code is much more concise and easier to read. \n",
    "2.   Vectorization code is much faster than loops (about 300-400 times faster, 3.61 s vs 11.5 ms)"
   ]
  },
  {
   "cell_type": "markdown",
   "metadata": {
    "id": "qc5Z_KHIV_t3"
   },
   "source": [
    "### **Example 0.2** \n",
    "\n",
    "Write a function to compute the sample covariance matrix from a set of data samples:\n",
    "$$\\mathcal{D} = \\big\\{ \\mathbf{x}_1, \\mathbf{x}_2, \\cdots, \\mathbf{x}_N \\big\\}$$\n",
    "as\n",
    "$$\n",
    "\\mathbf{S} =    \\frac{1}{N} \\,  \\sum_{i=1}^N \\, (\\mathbf{x}_i - \\bar{\\mathbf{x}} ) \\, (\\mathbf{x}_i - \\bar{\\mathbf{x}} )^\\intercal\n",
    "$$\n",
    "(NOTE: the sample covariance matrix is discussed in *Section 4.2 Linear Dimension Reduction*, which is the main backbone in some popular machine learning methods such as PCA and LDA.)"
   ]
  },
  {
   "cell_type": "markdown",
   "metadata": {
    "id": "x0K6EQ8Df9Ec"
   },
   "source": [
    "**2.1** regular (but poor) programing using loops "
   ]
  },
  {
   "cell_type": "code",
   "execution_count": null,
   "metadata": {
    "id": "cckgE2VNgAS2"
   },
   "outputs": [],
   "source": [
    "import numpy as np\n",
    "\n",
    "## input: matrix X as N by d, each row is a feature vector of d dimensions\n",
    "def cov_loops(X):\n",
    "  N = X.shape[0]\n",
    "  d = X.shape[1]\n",
    "\n",
    "  # compute the mean\n",
    "  mean = np.zeros((d))\n",
    "  for i in range(N):\n",
    "    for j in range(d):\n",
    "      mean[j] += X[i,j]\n",
    "  for j in range(d):\n",
    "    mean[j] /= N\n",
    "\n",
    "  # compute the sample covariance matrix\n",
    "  S = np.zeros((d,d))\n",
    "  z = np.zeros((d))\n",
    "  for i in range(N):\n",
    "    for j in range(d):\n",
    "      z[j] = X[i,j] - mean[j]\n",
    "    for m in range(d):\n",
    "      for n in range(d):\n",
    "        S[m,n] += z[m] * z[n]\n",
    "  for m in range(d):\n",
    "    for n in range(d):\n",
    "      S[m,n] /=  N\n",
    "    \n",
    "  return S"
   ]
  },
  {
   "cell_type": "markdown",
   "metadata": {
    "id": "PaBsnogYgcVd"
   },
   "source": [
    "**2.2** Vecctorized codes using *numpy* for CPUs\n",
    "\n",
    "For the above sample convariance example, we use the following identity (refer to Q2.3 on page 64):\n",
    "$$\n",
    "\\sum_{i=1}^m  \\mathbf{x}_i  \\mathbf{x}_i^\\intercal = \\mathbf{X}  \\mathbf{X}^\\intercal\n",
    "$$"
   ]
  },
  {
   "cell_type": "code",
   "execution_count": null,
   "metadata": {
    "id": "X1hf8T4Jg31t"
   },
   "outputs": [],
   "source": [
    "import numpy as np\n",
    "\n",
    "## input: matrix X as N by d, each row is a feature vector of d dimensions\n",
    "def cov_vec(X):\n",
    "  mean = np.mean(X, axis=0)\n",
    "\n",
    "  return (X-mean) @ (X-mean).T / X.shape[0]"
   ]
  },
  {
   "cell_type": "markdown",
   "metadata": {
    "id": "xWM_4mKIg6hJ"
   },
   "source": [
    "**2.3** Vectorized codes using JAX for GPUs\n",
    "\n",
    "Vectorized codes can be further accelerated in GPUs using some python library such as JAX."
   ]
  },
  {
   "cell_type": "code",
   "execution_count": null,
   "metadata": {
    "id": "ZuT-LHashNtt"
   },
   "outputs": [],
   "source": [
    "import jax.numpy as jnp\n",
    "from jax import jit\n",
    "\n",
    "## input: matrix X as N by d, each row is a feature vector of d dimensions\n",
    "@jit\n",
    "def cov_jax(X):\n",
    "  X = jnp.array(X)\n",
    "  mean = jnp.mean(X, axis=0)\n",
    "\n",
    "  return (X-mean) @ (X-mean).T / X.shape[0]"
   ]
  },
  {
   "cell_type": "markdown",
   "metadata": {
    "id": "4QI8c2DehQcp"
   },
   "source": [
    "**2.4** Running on some random samples, and compare the results and running speed of the above three implementations."
   ]
  },
  {
   "cell_type": "code",
   "execution_count": null,
   "metadata": {
    "colab": {
     "base_uri": "https://localhost:8080/"
    },
    "id": "Hf6jl3nHhpK5",
    "outputId": "8a45a3bf-7e4b-4eef-b575-6e74a38d8bdc"
   },
   "outputs": [
    {
     "name": "stdout",
     "output_type": "stream",
     "text": [
      "1 loop, best of 1: 2min 23s per loop\n",
      "3 loops, best of 3: 6.63 ms per loop\n",
      "The slowest run took 1337.56 times longer than the fastest. This could mean that an intermediate result is being cached.\n",
      "3 loops, best of 3: 613 µs per loop\n",
      "779.8513112292864 779.8513112292862 779.8513\n"
     ]
    }
   ],
   "source": [
    "import numpy as np\n",
    "\n",
    "# N=300 samples, whose dimensions are d=784 \n",
    "X = np.random.normal(size=(300,784))\n",
    "\n",
    "%timeit -n1 -r1  cov_loops(X)\n",
    "%timeit -n3 -r3  cov_vec(X)\n",
    "%timeit -n3 -r3  cov_jax(X)\n",
    "\n",
    "S1 = cov_loops(X)\n",
    "S2 = cov_vec(X)\n",
    "S3 = cov_jax(X)\n",
    "\n",
    "print(np.trace(S1), np.trace(S2), np.trace(S3))"
   ]
  },
  {
   "cell_type": "markdown",
   "metadata": {
    "id": "D2jZd2kwjziO"
   },
   "source": [
    "Compare CPU vs. GPU implementations on a larger sample set:"
   ]
  },
  {
   "cell_type": "code",
   "execution_count": null,
   "metadata": {
    "colab": {
     "base_uri": "https://localhost:8080/"
    },
    "id": "2YlHcaibj-4U",
    "outputId": "6a718660-6e49-469f-beab-5db998923d9f"
   },
   "outputs": [
    {
     "name": "stdout",
     "output_type": "stream",
     "text": [
      "1 loop, best of 5: 1.18 s per loop\n",
      "The slowest run took 31.36 times longer than the fastest. This could mean that an intermediate result is being cached.\n",
      "1 loop, best of 5: 7.92 ms per loop\n",
      "783.0682494218952 783.06824\n"
     ]
    }
   ],
   "source": [
    "import numpy as np\n",
    "\n",
    "# N=5000 samples, whose dimensions are d=784 \n",
    "X = np.random.normal(size=(5000,784))\n",
    "\n",
    "%timeit cov_vec(X)\n",
    "%timeit cov_jax(X)\n",
    "\n",
    "S2 = cov_vec(X)\n",
    "S3 = cov_jax(X)\n",
    "\n",
    "print( np.trace(S2), np.trace(S3))"
   ]
  },
  {
   "cell_type": "markdown",
   "metadata": {
    "id": "A-Xi3A_rh49S"
   },
   "source": [
    "**2.5** Summary:\n",
    "\n",
    "1.   Vectorization is about 20000+ times faster than loops (143s vs. 6.63ms)\n",
    "2.   GPUs can further speed it up about 10 times (6.63ms vs 0.613ms) \n",
    "3.   GPUs can accelerate more for larger matrices, about 150+ times faster at above (1.18s vs 7.92ms)\n",
    "\n",
    "\n"
   ]
  },
  {
   "cell_type": "code",
   "execution_count": null,
   "metadata": {
    "colab": {
     "base_uri": "https://localhost:8080/"
    },
    "id": "r8gpKjigh1LO",
    "outputId": "2f472463-41b0-482c-e9d6-3c70e1343006"
   },
   "outputs": [
    {
     "name": "stdout",
     "output_type": "stream",
     "text": [
      "Tue Jan 11 20:29:15 2022       \n",
      "+-----------------------------------------------------------------------------+\n",
      "| NVIDIA-SMI 495.46       Driver Version: 460.32.03    CUDA Version: 11.2     |\n",
      "|-------------------------------+----------------------+----------------------+\n",
      "| GPU  Name        Persistence-M| Bus-Id        Disp.A | Volatile Uncorr. ECC |\n",
      "| Fan  Temp  Perf  Pwr:Usage/Cap|         Memory-Usage | GPU-Util  Compute M. |\n",
      "|                               |                      |               MIG M. |\n",
      "|===============================+======================+======================|\n",
      "|   0  Tesla K80           Off  | 00000000:00:04.0 Off |                    0 |\n",
      "| N/A   58C    P8    30W / 149W |      0MiB / 11441MiB |      0%      Default |\n",
      "|                               |                      |                  N/A |\n",
      "+-------------------------------+----------------------+----------------------+\n",
      "                                                                               \n",
      "+-----------------------------------------------------------------------------+\n",
      "| Processes:                                                                  |\n",
      "|  GPU   GI   CI        PID   Type   Process name                  GPU Memory |\n",
      "|        ID   ID                                                   Usage      |\n",
      "|=============================================================================|\n",
      "|  No running processes found                                                 |\n",
      "+-----------------------------------------------------------------------------+\n"
     ]
    }
   ],
   "source": [
    "# show the GPU type used in the above computation\n",
    "\n",
    "!nvidia-smi"
   ]
  },
  {
   "cell_type": "markdown",
   "metadata": {
    "id": "gFuRELvDnvEh"
   },
   "source": [
    "## **II. Loading Data Sets**\n"
   ]
  },
  {
   "cell_type": "markdown",
   "metadata": {
    "id": "3sFQeblZn581"
   },
   "source": [
    "### 1. **loading the MNIST data set**\n",
    "\n",
    "The MNIST data set is used in Lab Project I (page 92), Lab Project II (page 129) and Lab Project IV (page 200)."
   ]
  },
  {
   "cell_type": "markdown",
   "metadata": {
    "id": "s6zKbkryt07i"
   },
   "source": [
    "1. First of all, download the original MNIST data [here](https://drive.google.com/drive/folders/1r20aRjc2iu9O3kN3Xj9jNYY2uMgcERY1?usp=sharing) using ```gdown```. The data will be located in a folder called 'MNIST', including four files: _train-images-idx3-ubyte_,  _train-labels-idx1-ubyte_,   _t10k-images-idx3-ubyte_, _t10k-labels-idx1-ubyte_. \n"
   ]
  },
  {
   "cell_type": "code",
   "execution_count": null,
   "metadata": {
    "colab": {
     "base_uri": "https://localhost:8080/"
    },
    "id": "KwJEzaqxGTjS",
    "outputId": "f671020b-3fef-4dfc-8d37-3478f2670354"
   },
   "outputs": [
    {
     "name": "stdout",
     "output_type": "stream",
     "text": [
      "Processing file 1Jf2XqGR7y1fzOZNKLJiom7GmZZUzXhfs t10k-images-idx3-ubyte\n",
      "Processing file 1qiYu9dW3ZNrlvTFO5fI4qf8Wtr8K-pCu t10k-labels-idx1-ubyte\n",
      "Processing file 1SnWvBcUETRJ53rEJozFUUo-hOQFPKxjp train-images-idx3-ubyte\n",
      "Processing file 1kKEIi_pwVHmabByAnwZQsaMgro9XiBFE train-labels-idx1-ubyte\n",
      "Building directory structure completed\n"
     ]
    }
   ],
   "source": [
    "!gdown --folder https://drive.google.com/drive/folders/1r20aRjc2iu9O3kN3Xj9jNYY2uMgcERY1 2> /dev/null"
   ]
  },
  {
   "cell_type": "markdown",
   "metadata": {
    "id": "w86rnMYRx0Rr"
   },
   "source": [
    "2. i) Use idx2numpy to convert idx to numpy arrays"
   ]
  },
  {
   "cell_type": "code",
   "execution_count": null,
   "metadata": {
    "colab": {
     "base_uri": "https://localhost:8080/"
    },
    "id": "7P4j_A_0yCfC",
    "outputId": "e8c494ee-62f3-4730-c993-02e0e73b81f1"
   },
   "outputs": [
    {
     "name": "stdout",
     "output_type": "stream",
     "text": [
      "Looking in indexes: https://pypi.org/simple, https://us-python.pkg.dev/colab-wheels/public/simple/\n",
      "Requirement already satisfied: idx2numpy in /usr/local/lib/python3.9/dist-packages (1.2.3)\n",
      "Requirement already satisfied: numpy in /usr/local/lib/python3.9/dist-packages (from idx2numpy) (1.22.4)\n",
      "Requirement already satisfied: six in /usr/local/lib/python3.9/dist-packages (from idx2numpy) (1.16.0)\n"
     ]
    }
   ],
   "source": [
    "# install idx2numpy\n",
    "\n",
    "!pip install idx2numpy "
   ]
  },
  {
   "cell_type": "code",
   "execution_count": null,
   "metadata": {
    "colab": {
     "base_uri": "https://localhost:8080/"
    },
    "id": "RFagOQ4zKgVo",
    "outputId": "95a9f886-a698-48f9-e651-f3544823fc9a"
   },
   "outputs": [
    {
     "name": "stdout",
     "output_type": "stream",
     "text": [
      "(60000, 784)\n",
      "(60000,)\n",
      "(10000, 784)\n",
      "(10000,)\n"
     ]
    }
   ],
   "source": [
    "import idx2numpy\n",
    "import numpy as np\n",
    "\n",
    "# load training images and labels \n",
    "train_data=idx2numpy.convert_from_file('MNIST/train-images-idx3-ubyte')\n",
    "train_data = np.reshape(train_data,(60000,28*28))\n",
    "train_label = idx2numpy.convert_from_file('MNIST/train-labels-idx1-ubyte')\n",
    "print(train_data.shape)\n",
    "print(train_label.shape)\n",
    "\n",
    "# load testing images and labels \n",
    "test_data=idx2numpy.convert_from_file('MNIST/t10k-images-idx3-ubyte')\n",
    "test_data = np.reshape(test_data,(10000,28*28))\n",
    "test_label = idx2numpy.convert_from_file('MNIST/t10k-labels-idx1-ubyte')\n",
    "print(test_data.shape)\n",
    "print(test_label.shape)"
   ]
  },
  {
   "cell_type": "markdown",
   "metadata": {
    "id": "P07JDTg0yv2s"
   },
   "source": [
    "2.    ii) OR use python-mnist to load into numpy"
   ]
  },
  {
   "cell_type": "code",
   "execution_count": null,
   "metadata": {
    "colab": {
     "base_uri": "https://localhost:8080/"
    },
    "id": "CmZ5faqPzIMT",
    "outputId": "01079d93-c4dd-4360-a617-6cd02d9e2ec3"
   },
   "outputs": [
    {
     "name": "stdout",
     "output_type": "stream",
     "text": [
      "Looking in indexes: https://pypi.org/simple, https://us-python.pkg.dev/colab-wheels/public/simple/\n",
      "Collecting python_mnist\n",
      "  Downloading python_mnist-0.7-py2.py3-none-any.whl (9.6 kB)\n",
      "Installing collected packages: python_mnist\n",
      "Successfully installed python_mnist-0.7\n"
     ]
    }
   ],
   "source": [
    "# install python_mnist\n",
    "\n",
    "!pip install python_mnist"
   ]
  },
  {
   "cell_type": "code",
   "execution_count": null,
   "metadata": {
    "colab": {
     "base_uri": "https://localhost:8080/"
    },
    "id": "lCFVEPzCzaJh",
    "outputId": "61242bee-1268-4c3c-b40e-4ee97813431e"
   },
   "outputs": [
    {
     "name": "stdout",
     "output_type": "stream",
     "text": [
      "(60000, 784)\n",
      "(60000,)\n",
      "(10000, 784)\n",
      "(10000,)\n"
     ]
    }
   ],
   "source": [
    "from mnist import MNIST\n",
    "import numpy as np\n",
    "mnist_loader = MNIST('MNIST')\n",
    "train_data, train_label = mnist_loader.load_training()\n",
    "test_data, test_label = mnist_loader.load_testing()\n",
    "train_data = np.array(train_data)\n",
    "train_label = np.array(train_label)\n",
    "test_data = np.array(test_data)\n",
    "test_label = np.array(test_label)\n",
    "\n",
    "print(train_data.shape)\n",
    "print(train_label.shape)\n",
    "print(test_data.shape)\n",
    "print(test_label.shape)"
   ]
  },
  {
   "cell_type": "code",
   "execution_count": null,
   "metadata": {
    "colab": {
     "base_uri": "https://localhost:8080/",
     "height": 302
    },
    "id": "Xh7oWmEazvv9",
    "outputId": "0e77e9b8-a525-4cb3-ce01-e8373de92b39"
   },
   "outputs": [
    {
     "data": {
      "image/png": "[encoded data removed]",
      "text/plain": [
       "<Figure size 432x288 with 9 Axes>"
      ]
     },
     "metadata": {
      "needs_background": "light"
     },
     "output_type": "display_data"
    }
   ],
   "source": [
    "# use a matplotlib function to display some MNIST images\n",
    "\n",
    "import matplotlib.pyplot as plt\n",
    "import numpy as np\n",
    "\n",
    "# functions to show an image\n",
    "\n",
    "def show_img(num):\n",
    "  img = train_data[num,:]\n",
    "  img = img.reshape(28,-1)\n",
    "  print(str(img.shape) + '  No.' +  str(num) + '  label:' + str(train_label[num]))\n",
    "  plt.imshow(img, cmap='gray')\n",
    "  plt.show()\n",
    "\n",
    "fig = plt.figure()\n",
    "\n",
    "for i in range(9):\n",
    "  img = train_data[i,:]\n",
    "  img = img.reshape(28,-1)\n",
    "  ax = fig.add_subplot(3,3,i+1)\n",
    "  ax.title.set_text(str(train_label[i]))\n",
    "  plt.imshow(img, cmap='gray')\n",
    "\n",
    "plt.show(block=True)\n",
    "    "
   ]
  },
  {
   "cell_type": "markdown",
   "metadata": {
    "id": "cT16s-G31VtT"
   },
   "source": [
    "### **2. Loading the Boston House data set** \n",
    "\n",
    "The Boston House data set is used in Q7.7 on page 150.\n",
    "\n",
    "Download [boston.csv](https://drive.google.com/file/d/1UOJmn44xf-WW0KydM81eytMHNbdlHr5o/view?usp=sharing) using ```gdown```. \n",
    "Refer to [here](https://www.cs.toronto.edu/~delve/data/boston/bostonDetail.html) for the description of the data."
   ]
  },
  {
   "cell_type": "code",
   "execution_count": null,
   "metadata": {
    "colab": {
     "base_uri": "https://localhost:8080/"
    },
    "id": "CLbKk7XFSx9q",
    "outputId": "c256517c-3298-4919-ce86-44858de5d0b6"
   },
   "outputs": [
    {
     "name": "stdout",
     "output_type": "stream",
     "text": [
      "Processing file 1IZf0tFGW3Zv3Ax5gxKgnklHe1DUI7CAI boston.csv\n",
      "Building directory structure completed\n"
     ]
    }
   ],
   "source": [
    "!gdown --folder https://drive.google.com/drive/folders/12L9XNwhIH2wQBa4-IdQrhsrtgRFbeIMZ 2> /dev/null"
   ]
  },
  {
   "cell_type": "code",
   "execution_count": null,
   "metadata": {
    "colab": {
     "base_uri": "https://localhost:8080/"
    },
    "id": "kmUQ0QIw2JQC",
    "outputId": "3880ebfc-a35a-4838-c0ad-199ecf927344"
   },
   "outputs": [
    {
     "name": "stdout",
     "output_type": "stream",
     "text": [
      "(506, 13)\n",
      "(506,)\n"
     ]
    }
   ],
   "source": [
    "import pandas as pd\n",
    "import numpy as np\n",
    "\n",
    "raw_data = pd.read_csv('Boston/boston.csv', header=None)\n",
    "data_rows = np.reshape(raw_data.to_numpy(), (506,14))\n",
    "data = data_rows[:,:13]\n",
    "target = data_rows[:,13]\n",
    "\n",
    "print(data.shape)\n",
    "print(target.shape)\n"
   ]
  },
  {
   "cell_type": "markdown",
   "metadata": {
    "id": "QmpMYDPM4S2A"
   },
   "source": [
    "### **3. Loading the Ames Housing data set** \n",
    "\n",
    "The Ames Housing data set is used in Lab Project V (page 216).\n",
    "\n",
    "Download the data set from [Kaggle](https://www.kaggle.com/c/house-prices-advanced-regression-techniques) or [here](https://drive.google.com/drive/folders/1w2hM-TIzvFFYHp_5JCVEGTA3DWNNskx9?usp=sharing) using ```gdown```. The data description is [here](https://drive.google.com/file/d/1sSEHUamh5JJGxMvk17GkrgHBpzUf7Q-n/view?usp=sharing)."
   ]
  },
  {
   "cell_type": "code",
   "execution_count": null,
   "metadata": {
    "colab": {
     "base_uri": "https://localhost:8080/"
    },
    "id": "-ExrOVm2WP1v",
    "outputId": "6a6df23c-12dd-4f8b-dc92-d189b69e13fb"
   },
   "outputs": [
    {
     "name": "stdout",
     "output_type": "stream",
     "text": [
      "Processing file 1sSEHUamh5JJGxMvk17GkrgHBpzUf7Q-n data_description.txt\n",
      "Processing file 1d_hN2NxCaIn3IlxPXximPUajdnkpyGff sample_submission.csv\n",
      "Processing file 1GX9ZPzZ9sH8QvrqESnLrsB78O1vUwcDW test.csv\n",
      "Processing file 1ATUfJGfaFjdZkWC2j46y_00iDQn_NLE8 train.csv\n",
      "Building directory structure completed\n"
     ]
    }
   ],
   "source": [
    "!gdown --folder https://drive.google.com/drive/folders/1w2hM-TIzvFFYHp_5JCVEGTA3DWNNskx9 2> /dev/null"
   ]
  },
  {
   "cell_type": "code",
   "execution_count": null,
   "metadata": {
    "colab": {
     "base_uri": "https://localhost:8080/"
    },
    "id": "ktHS4o0_4Z0M",
    "outputId": "f45121de-c35e-40df-a933-958abc0f51f0"
   },
   "outputs": [
    {
     "name": "stdout",
     "output_type": "stream",
     "text": [
      "(1460, 81)\n",
      "(1459, 80)\n"
     ]
    }
   ],
   "source": [
    "import pandas as pd\n",
    "\n",
    "train_dataframe = pd.read_csv(\"AmesHouse/train.csv\")\n",
    "test_dataframe = pd.read_csv(\"AmesHouse/test.csv\")\n",
    "\n",
    "print(train_dataframe.shape)\n",
    "print(test_dataframe.shape)\n",
    "\n",
    "# WARNING: both train_dataframe and test_dataframe contain symbolic features (refer to the data description)\n",
    "#          they need be pre-processed to numbers prior to model training and testing"
   ]
  },
  {
   "cell_type": "markdown",
   "metadata": {
    "id": "_WJn6rIH6LLs"
   },
   "source": [
    "### **4. Loading the MLF Gaussian data set** \n",
    "\n",
    "The MLF Gaussian data set is used in Lab Project VI (page 287).\n",
    "\n",
    "Download the data set from [here](https://drive.google.com/drive/folders/1agkY7npAHzav-e1yYIVBJNgfux5AsmlX?usp=sharing) using ```gdown```: "
   ]
  },
  {
   "cell_type": "code",
   "execution_count": null,
   "metadata": {
    "colab": {
     "base_uri": "https://localhost:8080/"
    },
    "id": "E0K6ekMvXe_Q",
    "outputId": "b9b159fe-543b-45ec-fd35-ee39974cfb18"
   },
   "outputs": [
    {
     "name": "stdout",
     "output_type": "stream",
     "text": [
      "Processing file 115nnh9K_ry8iyHg6VwtcEXQM-tYgog8f test-gaussian.csv\n",
      "Processing file 1kaSuLbSmpYx3gLMqYe8S_EWU86nmq_CV train-gaussian.csv\n",
      "Building directory structure completed\n"
     ]
    }
   ],
   "source": [
    "!gdown --folder https://drive.google.com/drive/folders/1agkY7npAHzav-e1yYIVBJNgfux5AsmlX 2> /dev/null"
   ]
  },
  {
   "cell_type": "code",
   "execution_count": null,
   "metadata": {
    "colab": {
     "base_uri": "https://localhost:8080/"
    },
    "id": "RT9ouVXq6zkk",
    "outputId": "3f9c2e47-1089-445c-dfb3-02204b12c143"
   },
   "outputs": [
    {
     "name": "stdout",
     "output_type": "stream",
     "text": [
      "(1891, 4)\n",
      "(830, 4)\n"
     ]
    }
   ],
   "source": [
    "import pandas as pd\n",
    "\n",
    "train_dataframe = pd.read_csv(\"MLF-Gauss/train-gaussian.csv\")\n",
    "test_dataframe = pd.read_csv(\"MLF-Gauss/test-gaussian.csv\")\n",
    "train_data = train_dataframe.to_numpy()\n",
    "test_data = test_dataframe.to_numpy()\n",
    "\n",
    "print(train_data.shape)\n",
    "print(test_data.shape)"
   ]
  },
  {
   "cell_type": "markdown",
   "metadata": {
    "id": "r0g_2fqI8XiH"
   },
   "source": [
    "## **Exercises**"
   ]
  },
  {
   "cell_type": "markdown",
   "metadata": {
    "id": "R_DA_RTjvvld"
   },
   "source": [
    "### **Problem 0.1:**\n",
    "Write a program to compute pair-wise Euclean distances (i.e., $L_2$ norm) between all vectors in a set of data samples:\n",
    "$$\\mathcal{D} = \\big\\{ \\mathbf{x}_1, \\mathbf{x}_2, \\cdots, \\mathbf{x}_N \\big\\}$$\n",
    "where each $\\mathbf{x}_i \\in \\mathbb{R}^d$.\n",
    "Store all these pair-wise distances in a symmetric marix $\\mathbf{E} \\in \\mathbb{R}^{N \\times N}$, where each element $e_{ij}$ indicates the distance between $\\mathbf{x}_i$ and $\\mathbf{x}_j$. \n",
    "\n",
    "1.   Implement it using regular loop-based programing style. \n",
    "\n",
    "2.   Implement it use vectorization.\n",
    "\n",
    "3.   Generate some random samples, compare the above two implementations in terms of running speed. \n",
    "\n"
   ]
  },
  {
   "cell_type": "markdown",
   "metadata": {
    "id": "YaiYaJVH-up2"
   },
   "source": [
    "### **Problem 0.2:**\n",
    "\n",
    "Refer to Q6.8 (page 130),  write some programs to compute the SVM matrix $Q$ for three different kernel types: linear, polynomial and RBF functions. \n",
    "\n",
    "1.   Implement it using regular loop-based programing style.\n",
    "\n",
    "2.   Use vectorization to re-write vectorized codes to compute the matrix $Q$ for all three kernel types. \n",
    "\n",
    "3.   Generate some random samples, compare the above two implementations in terms of running speed. "
   ]
  }
 ],
 "metadata": {
  "colab": {
   "provenance": []
  },
  "gpuClass": "standard",
  "kernelspec": {
   "display_name": "Python 3",
   "language": "python",
   "name": "python3"
  },
  "language_info": {
   "codemirror_mode": {
    "name": "ipython",
    "version": 3
   },
   "file_extension": ".py",
   "mimetype": "text/x-python",
   "name": "python",
   "nbconvert_exporter": "python",
   "pygments_lexer": "ipython3",
   "version": "3.7.0"
  }
 },
 "nbformat": 4,
 "nbformat_minor": 4
}
