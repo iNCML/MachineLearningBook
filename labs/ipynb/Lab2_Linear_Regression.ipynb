{
 "cells": [
  {
   "cell_type": "markdown",
   "metadata": {
    "id": "NigjKmrwpCoc"
   },
   "source": [
    "# **Lab 2: Linear Regression**\n",
    "\n",
    "---\n",
    "NOTE: This is a lab project accompanying the following book [MLF] and it should be used together with the book.\n",
    "\n",
    "[MLF] *H. Jiang*, \"[Machine Learning Fundamentals: A Concise Introduction](http://wiki.eecs.yorku.ca/user/hj/research:mlfbook)\", Cambridge University Press, 2021.  ([bibtex](http://www.cse.yorku.ca/~hj/mlf-jiang.bib))\n",
    "\n",
    "---\n"
   ]
  },
  {
   "cell_type": "markdown",
   "metadata": {
    "id": "kqHSkM5dpJ08"
   },
   "source": [
    "The purpose of this lab is to apply a simple machine learning method, namely *linear regression*, to some regression and classification tasks on two popular data sets. We will show how linear regression may differ when used to solve a regression or classification problem. As we know, linear regression is simple enough so that we can derive the closed-form solution to solve it. In this project, we will use both the closed-form method and an iterative gradient descent method (e.g. minibatch SGD) to solve linear regression for these tasks and compare their pros and cons in practice. Moreover, we will use linear regression as a simple example to explain some fine-tuning tricks when using any iterative optimization methods (e.g. SGD) in machine learning. As we will see in the up-coming projects, these tricks become vital in learning large models in machine learning, such as deep neural networks. \n",
    "\n",
    "*Prerequisites*: N/A"
   ]
  },
  {
   "cell_type": "markdown",
   "metadata": {
    "id": "7inUJeJupY1N"
   },
   "source": [
    "## **I. Linear Regression for Regression**\n"
   ]
  },
  {
   "cell_type": "markdown",
   "metadata": {
    "id": "2z2a3tv6r2nq"
   },
   "source": [
    "### **Example 2.1:**\n",
    "\n",
    "Use linear regression to predict house prices in the popular [Boston House data set](https://www.cs.toronto.edu/~delve/data/boston/bostonDetail.html). Consider to use both the closed-form solution and an iterative method to fit to the data and discuss their pros and cons with some experimental results. "
   ]
  },
  {
   "cell_type": "code",
   "execution_count": 4,
   "metadata": {
    "colab": {
     "base_uri": "https://localhost:8080/"
    },
    "id": "8NLAVsmqwL5L",
    "outputId": "61747413-ca0b-4eeb-e9be-b32b40db798a"
   },
   "outputs": [
    {
     "name": "stdout",
     "output_type": "stream",
     "text": [
      "Processing file 1IZf0tFGW3Zv3Ax5gxKgnklHe1DUI7CAI boston.csv\n",
      "Building directory structure completed\n"
     ]
    }
   ],
   "source": [
    "# download boston house data from Google drive\n",
    "\n",
    "!gdown --folder https://drive.google.com/drive/folders/12L9XNwhIH2wQBa4-IdQrhsrtgRFbeIMZ 2> /dev/null"
   ]
  },
  {
   "cell_type": "code",
   "execution_count": 7,
   "metadata": {
    "colab": {
     "base_uri": "https://localhost:8080/"
    },
    "id": "ywwMsbDCwSW6",
    "outputId": "a1061656-9672-4144-9717-8cf1de0298f5"
   },
   "outputs": [
    {
     "name": "stdout",
     "output_type": "stream",
     "text": [
      "(506, 13)\n",
      "(506,)\n"
     ]
    }
   ],
   "source": [
    "# load Boston House data set\n",
    "import pandas as pd\n",
    "import numpy as np\n",
    "\n",
    "raw_data = pd.read_csv('Boston/boston.csv', header=None)\n",
    "data_rows = np.reshape(raw_data.to_numpy(), (506,14))\n",
    "data = data_rows[:,:13]\n",
    "target = data_rows[:,13]\n",
    "\n",
    "# normalize input features to zero-mean and unit-variance\n",
    "data = (data-np.mean(data, axis=0))/np.std(data, axis=0) \n",
    "\n",
    "print(data.shape)\n",
    "print(target.shape)"
   ]
  },
  {
   "cell_type": "code",
   "execution_count": null,
   "metadata": {
    "colab": {
     "base_uri": "https://localhost:8080/"
    },
    "id": "4NcXAiFi0Iby",
    "outputId": "31587984-3cb6-4566-eee7-1237fc60fd54"
   },
   "outputs": [
    {
     "name": "stdout",
     "output_type": "stream",
     "text": [
      "(506, 14)\n",
      "mean square error for the closed-form solution: 21.89483\n"
     ]
    }
   ],
   "source": [
    "# use the closed-form solution (Eq(6.9) on page 112)\n",
    "\n",
    "# add a constant column of '1' to accomodate the bias (see the margin note on page 107)\n",
    "data_wb = np.hstack((data, np.ones((data.shape[0], 1), dtype=data.dtype)))\n",
    "\n",
    "print(data_wb.shape)\n",
    "\n",
    "# refer to the closed-form solution, i.e. Eq.(6.9) on page 112\n",
    "w = np.linalg.inv(data_wb.T @ data_wb) @ data_wb.T @ target\n",
    "\n",
    "# calculate the mean square error in the training set\n",
    "predict = data_wb @ w \n",
    "error = np.sum((predict - target)*(predict - target))/data.shape[0]\n",
    "\n",
    "print(f'mean square error for the closed-form solution: {error:.5f}')"
   ]
  },
  {
   "cell_type": "markdown",
   "metadata": {
    "id": "F8DqNNObFtjX"
   },
   "source": [
    "Consider to solve the above linear regression using an iterative optimization, such as gradient descent.\n",
    "\n",
    "Refer to eq.(6.8) on page 112, the objective function in linear regression, i.e. the mean square error (MSE), is given as:\n",
    "\\begin{eqnarray}\n",
    "E(\\mathbf{w}) & = & \\frac{1}{2} \\sum_{i=1}^N \\big( \\mathbf{w}^\\intercal \\mathbf{x}_i - y_i \\big)^2  \\nonumber \\\\\n",
    "& = & \\frac{1}{2} \\Big(\n",
    "\\mathbf{w}^\\intercal \\mathbf{X}^\\intercal \\mathbf{X} \\mathbf{w} - 2 \\mathbf{w}^\\intercal  \\mathbf{X} ^\\intercal  \\mathbf{y} + \\mathbf{y}^\\intercal \\mathbf{y} \\Big)\\nonumber\n",
    "\\end{eqnarray}\n",
    "we can show that its gradient can be computed in several equivallent ways as follows:\n",
    "\\begin{eqnarray}\n",
    "\\frac{\\partial E(\\mathbf{w})}{ \\partial \\mathbf{w} } \n",
    "& = & \\sum_{i=1}^ N  \\big( \\mathbf{w}^\\intercal \\mathbf{x}_i - y_i \\big) \\mathbf{x}_i \n",
    "= \\sum_{i=1}^ N  \\mathbf{x}_i  \\big( \\mathbf{x}_i^\\intercal \\mathbf{w} - y_i \\big) \n",
    "\\nonumber \\\\\n",
    "& = & \\Big( \\sum_{i=1}^N  \\mathbf{x}_i \\mathbf{x}_i^ \\intercal \\Big) \\mathbf{w} - \\sum_{i=1}^N  y_i \\mathbf{x}_i \\nonumber \\\\\n",
    "& = &  \\mathbf{X}^\\intercal \\mathbf{X} \\mathbf{w} - \\mathbf{X} ^\\intercal  \\mathbf{y}\n",
    "\\end{eqnarray}\n",
    "where $\\mathbf{X}$ and $\\mathbf{y}$ are defined in the same way as on page 112. \n",
    "\n",
    "In the following, we use the formula from last row to calculate gradients via vectorization. Furthermore, we  implement a mini-batch SGD, .i.e. **Algorithm 2.3** on page 62, to learn linear regression iteratively. "
   ]
  },
  {
   "cell_type": "code",
   "execution_count": null,
   "metadata": {
    "id": "IjIFOVy3LMIw"
   },
   "outputs": [],
   "source": [
    "# solve linear regression using gradient descent \n",
    "import numpy as np\n",
    "\n",
    "class Optimizer():\n",
    "  def __init__(self, lr, annealing_rate, batch_size, max_epochs):\n",
    "    self.lr = lr\n",
    "    self.annealing_rate = annealing_rate\n",
    "    self.batch_size = batch_size\n",
    "    self.max_epochs = max_epochs\n",
    "\n",
    "# X[N,d]: input features; y[N]: output targets; op: hyper-parameters for optimzer \n",
    "def linear_regression_gd(X, y, op):\n",
    "  n = X.shape[0]   # number of samples\n",
    "  w = np.zeros(X.shape[1])  # initialization\n",
    "\n",
    "  lr = op.lr\n",
    "  errors = np.zeros(op.max_epochs)\n",
    "  for epoch in range(op.max_epochs):\n",
    "    indices = np.random.permutation(n)  #randomly shuffle data indices\n",
    "    for batch_start in range(0, n, op.batch_size):\n",
    "      X_batch = X[indices[batch_start:batch_start + op.batch_size]]\n",
    "      y_batch = y[indices[batch_start:batch_start + op.batch_size]]\n",
    "\n",
    "      # vectorization to compute gradients for a whole mini-batch (see the above formula)\n",
    "      w_grad = X_batch.T @ X_batch @ w - X_batch.T @ y_batch \n",
    "\n",
    "      w -= lr * w_grad / X_batch.shape[0]\n",
    "\n",
    "    diff = X @ w - y  # prediction difference\n",
    "    errors[epoch] = np.sum(diff*diff)/n\n",
    "    lr *= op.annealing_rate\n",
    "    #print(f'epoch={epoch}: the mean square error is {errors[epoch]}')\n",
    "\n",
    "  return w, errors"
   ]
  },
  {
   "cell_type": "code",
   "execution_count": null,
   "metadata": {
    "colab": {
     "base_uri": "https://localhost:8080/",
     "height": 313
    },
    "id": "oM0FfN_fTEb3",
    "outputId": "618fcd84-1686-4ec8-f11c-fe0c82fdddbe"
   },
   "outputs": [
    {
     "data": {
      "text/plain": [
       "<matplotlib.legend.Legend at 0x7ffaed7e1d10>"
      ]
     },
     "execution_count": 7,
     "metadata": {},
     "output_type": "execute_result"
    },
    {
     "data": {
      "image/png": "[encoded data removed]",
      "text/plain": [
       "<Figure size 432x288 with 1 Axes>"
      ]
     },
     "metadata": {
      "needs_background": "light"
     },
     "output_type": "display_data"
    }
   ],
   "source": [
    "import matplotlib.pyplot as plt\n",
    "\n",
    "op = Optimizer(lr=0.001, annealing_rate=0.99, batch_size=30, max_epochs=500)\n",
    "\n",
    "w, errors = linear_regression_gd(data_wb, target, op)\n",
    "\n",
    "plt.title('A larger mini-batch; converging smoothly but still a gap')\n",
    "plt.xlabel('number of epoches')\n",
    "plt.plot(errors, 'b', 21.89*np.ones(errors.shape[0]), 'c--')\n",
    "plt.legend(['gradient descent', 'closed-form solution'])"
   ]
  },
  {
   "cell_type": "code",
   "execution_count": null,
   "metadata": {
    "colab": {
     "base_uri": "https://localhost:8080/",
     "height": 313
    },
    "id": "C_j1mB0padnT",
    "outputId": "f23bff3b-934a-40df-e328-8b3dc35be3eb"
   },
   "outputs": [
    {
     "data": {
      "text/plain": [
       "<matplotlib.legend.Legend at 0x7ffaed8d6c10>"
      ]
     },
     "execution_count": 8,
     "metadata": {},
     "output_type": "execute_result"
    },
    {
     "data": {
      "image/png": "[encoded data removed]",
      "text/plain": [
       "<Figure size 432x288 with 1 Axes>"
      ]
     },
     "metadata": {
      "needs_background": "light"
     },
     "output_type": "display_data"
    }
   ],
   "source": [
    "import matplotlib.pyplot as plt\n",
    "\n",
    "op = Optimizer(lr=0.001, annealing_rate=0.99, batch_size=2, max_epochs=100)\n",
    "\n",
    "w, errors = linear_regression_gd(data_wb, target, op)\n",
    "\n",
    "plt.title('use a small mini-batch; converging quicklly and nicely to the optimum')\n",
    "plt.xlabel('number of epoches')\n",
    "plt.plot(errors, 'b', 21.89*np.ones(errors.shape[0]), 'c--')\n",
    "plt.legend(['gradient descent', 'closed-form solution'])"
   ]
  },
  {
   "cell_type": "code",
   "execution_count": null,
   "metadata": {
    "colab": {
     "base_uri": "https://localhost:8080/",
     "height": 313
    },
    "id": "GJAttIXfawcb",
    "outputId": "80dba7f4-78ec-4a2e-a6ba-02497a70a36d"
   },
   "outputs": [
    {
     "data": {
      "text/plain": [
       "<matplotlib.legend.Legend at 0x7ffaed7e1e50>"
      ]
     },
     "execution_count": 9,
     "metadata": {},
     "output_type": "execute_result"
    },
    {
     "data": {
      "image/png": "[encoded data removed]",
      "text/plain": [
       "<Figure size 432x288 with 1 Axes>"
      ]
     },
     "metadata": {
      "needs_background": "light"
     },
     "output_type": "display_data"
    }
   ],
   "source": [
    "import matplotlib.pyplot as plt\n",
    "\n",
    "op = Optimizer(lr=0.01, annealing_rate=0.99, batch_size=20, max_epochs=100)\n",
    "\n",
    "w, errors = linear_regression_gd(data_wb, target, op)\n",
    "\n",
    "plt.title('use a larger learning rate and larger mini-batch, also converging nicely')\n",
    "plt.xlabel('number of epoches')\n",
    "plt.plot(errors, 'b', 21.89*np.ones(errors.shape[0]), 'c--')\n",
    "plt.legend(['gradient descent', 'closed-form solution'])"
   ]
  },
  {
   "cell_type": "code",
   "execution_count": null,
   "metadata": {
    "colab": {
     "base_uri": "https://localhost:8080/",
     "height": 313
    },
    "id": "1wFzZ-oR664N",
    "outputId": "0e23c6a5-db9c-4ab9-cb56-8fa31bb54184"
   },
   "outputs": [
    {
     "data": {
      "text/plain": [
       "<matplotlib.legend.Legend at 0x7ffaed27b290>"
      ]
     },
     "execution_count": 11,
     "metadata": {},
     "output_type": "execute_result"
    },
    {
     "data": {
      "image/png": "[encoded data removed]",
      "text/plain": [
       "<Figure size 432x288 with 1 Axes>"
      ]
     },
     "metadata": {
      "needs_background": "light"
     },
     "output_type": "display_data"
    }
   ],
   "source": [
    "import matplotlib.pyplot as plt\n",
    "\n",
    "op = Optimizer(lr=0.2, annealing_rate=0.99, batch_size=20, max_epochs=12)\n",
    "\n",
    "w, errors = linear_regression_gd(data_wb, target, op)\n",
    "\n",
    "plt.title('not converging due to an overly large learning rate is used')\n",
    "plt.xlabel('number of epoches')\n",
    "plt.plot(errors, 'b', 21.89*np.ones(errors.shape[0]), 'c--')\n",
    "plt.legend(['gradient descent', 'closed-form solution'])"
   ]
  },
  {
   "cell_type": "markdown",
   "metadata": {
    "id": "zHdzNDxWQrPh"
   },
   "source": [
    "Finally, let us show how to solve the above linear regression problem using the scikit-learning implmenetation. "
   ]
  },
  {
   "cell_type": "code",
   "execution_count": null,
   "metadata": {
    "colab": {
     "base_uri": "https://localhost:8080/"
    },
    "id": "VklaWN9hQ30j",
    "outputId": "235cb05b-ebd1-47da-d66e-72e054191253"
   },
   "outputs": [
    {
     "name": "stdout",
     "output_type": "stream",
     "text": [
      "Mean squared error: 21.89483\n"
     ]
    }
   ],
   "source": [
    "import numpy as np\n",
    "from sklearn import linear_model\n",
    "from sklearn.metrics import mean_squared_error\n",
    "\n",
    "# Create linear regression object\n",
    "l_regr = linear_model.LinearRegression()\n",
    "\n",
    "# Train the model using the training set\n",
    "l_regr.fit(data_wb, target)\n",
    "\n",
    "# Make predictions using the same training set\n",
    "predict = l_regr.predict(data_wb)\n",
    "\n",
    "# The mean squared error\n",
    "print(\"Mean squared error: %.5f\" % mean_squared_error(target, predict))"
   ]
  },
  {
   "cell_type": "markdown",
   "metadata": {
    "id": "btDYTohgphEr"
   },
   "source": [
    "## **II. Linear Regression for Classification**"
   ]
  },
  {
   "cell_type": "markdown",
   "metadata": {
    "id": "R3fBCGWUs4DU"
   },
   "source": [
    "### **Example 2.2:**\n",
    "\n",
    "Use linear regression to build a binary classifier to classify two digits ('3' and '8') in the MNIST data set. Consider to use both the closed-form solution and an iterative method to fit to the data and discuss their pros and cons with experimental results."
   ]
  },
  {
   "cell_type": "code",
   "execution_count": 1,
   "metadata": {
    "colab": {
     "base_uri": "https://localhost:8080/"
    },
    "id": "EYl7Mqk-8hLt",
    "outputId": "058fea23-3d82-4eea-bfb1-240a3ac45c40"
   },
   "outputs": [
    {
     "name": "stdout",
     "output_type": "stream",
     "text": [
      "Processing file 1Jf2XqGR7y1fzOZNKLJiom7GmZZUzXhfs t10k-images-idx3-ubyte\n",
      "Processing file 1qiYu9dW3ZNrlvTFO5fI4qf8Wtr8K-pCu t10k-labels-idx1-ubyte\n",
      "Processing file 1SnWvBcUETRJ53rEJozFUUo-hOQFPKxjp train-images-idx3-ubyte\n",
      "Processing file 1kKEIi_pwVHmabByAnwZQsaMgro9XiBFE train-labels-idx1-ubyte\n",
      "Building directory structure completed\n",
      "Looking in indexes: https://pypi.org/simple, https://us-python.pkg.dev/colab-wheels/public/simple/\n",
      "Collecting python_mnist\n",
      "  Downloading python_mnist-0.7-py2.py3-none-any.whl (9.6 kB)\n",
      "Installing collected packages: python_mnist\n",
      "Successfully installed python_mnist-0.7\n"
     ]
    }
   ],
   "source": [
    "# download MNIST data \n",
    "\n",
    "!gdown --folder https://drive.google.com/drive/folders/1r20aRjc2iu9O3kN3Xj9jNYY2uMgcERY1 2> /dev/null\n",
    "\n",
    "# install python_mnist\n",
    "\n",
    "!pip install python_mnist"
   ]
  },
  {
   "cell_type": "code",
   "execution_count": 2,
   "metadata": {
    "colab": {
     "base_uri": "https://localhost:8080/"
    },
    "id": "ptEquz9LpIfQ",
    "outputId": "0144ab0c-208f-463a-dd17-a6fc1d5f2465"
   },
   "outputs": [
    {
     "name": "stdout",
     "output_type": "stream",
     "text": [
      "(60000, 784) (60000,) (10000, 784) (10000,)\n"
     ]
    }
   ],
   "source": [
    "#load MINST images\n",
    "\n",
    "from mnist import MNIST\n",
    "import numpy as np\n",
    "\n",
    "mnist_loader = MNIST('MNIST')\n",
    "train_data, train_label = mnist_loader.load_training()\n",
    "test_data, test_label = mnist_loader.load_testing()\n",
    "train_data = np.array(train_data, dtype='float')/255 # norm to [0,1]\n",
    "train_label = np.array(train_label, dtype='short')\n",
    "test_data = np.array(test_data, dtype='float')/255 # norm to [0,1]\n",
    "test_label = np.array(test_label, dtype='short')\n",
    "\n",
    "#add small random noise to avoid matrix singularity\n",
    "train_data += np.random.normal(0,0.0001,train_data.shape) \n",
    "\n",
    "print(train_data.shape, train_label.shape, test_data.shape, test_label.shape)"
   ]
  },
  {
   "cell_type": "code",
   "execution_count": 3,
   "metadata": {
    "colab": {
     "base_uri": "https://localhost:8080/"
    },
    "id": "EW_LFVRd9Gqu",
    "outputId": "c86836a8-2a02-4a07-9ce0-e50ddc7b2eda"
   },
   "outputs": [
    {
     "name": "stdout",
     "output_type": "stream",
     "text": [
      "(11982, 785)\n",
      "[-1 -1 -1 ...  1 -1  1]\n",
      "(1984, 785)\n",
      "[-1 -1 -1 ... -1  1 -1]\n"
     ]
    }
   ],
   "source": [
    "# prepare digits '3' and '8' for linear regression\n",
    "\n",
    "digit_train_index = np.logical_or(train_label == 3, train_label == 8)\n",
    "X_train = train_data[digit_train_index]\n",
    "y_train = train_label[digit_train_index]\n",
    "digit_test_index = np.logical_or(test_label == 3, test_label == 8)\n",
    "X_test = test_data[digit_test_index]\n",
    "y_test = test_label[digit_test_index]\n",
    "\n",
    "# add a constant column of '1' to accomodate the bias (see the margin note on page 107)\n",
    "X_train = np.hstack((X_train, np.ones((X_train.shape[0], 1), dtype=X_train.dtype)))\n",
    "X_test = np.hstack((X_test, np.ones((X_test.shape[0], 1), dtype=X_test.dtype)))\n",
    "\n",
    "# convert labels: '3' => -1, '8' => +1\n",
    "CUTOFF = 5 # any number between '3' and '8'\n",
    "y_train = np.sign(y_train-CUTOFF)\n",
    "y_test = np.sign(y_test-CUTOFF)\n",
    "\n",
    "print(X_train.shape)\n",
    "print(y_train)\n",
    "\n",
    "print(X_test.shape)\n",
    "print(y_test)"
   ]
  },
  {
   "cell_type": "code",
   "execution_count": null,
   "metadata": {
    "colab": {
     "base_uri": "https://localhost:8080/"
    },
    "id": "_6Fl6cLIBZhx",
    "outputId": "5874ebfb-8203-42b5-d5d0-f1ffd704b373"
   },
   "outputs": [
    {
     "name": "stdout",
     "output_type": "stream",
     "text": [
      "mean square error on training data for the closed-form solution: 0.19629\n",
      "classification accuracy on training data for the closed-form solution: 96.99%\n",
      "mean square error on training data for the closed-form solution: 1.30940\n",
      "classification accuracy on test data for the closed-form solution: 95.92%\n"
     ]
    }
   ],
   "source": [
    "# use the closed-form solution\n",
    "\n",
    "# refer to the closed-form solution, i.e. Eq.(6.9) on page 112\n",
    "w = np.linalg.inv(X_train.T @ X_train) @ X_train.T @ y_train\n",
    "\n",
    "# calculate the mean square error and classification accuracy on the training set\n",
    "predict = X_train @ w \n",
    "error = np.sum((predict - y_train)*(predict - y_train))/X_train.shape[0]\n",
    "print(f'mean square error on training data for the closed-form solution: {error:.5f}')\n",
    "\n",
    "accuracy = np.count_nonzero(np.equal(np.sign(predict),y_train))/y_train.size*100.0\n",
    "print(f'classification accuracy on training data for the closed-form solution: {accuracy:.2f}%')\n",
    "\n",
    "# calculate the mean square error and classification accuracy on the test set\n",
    "predict = X_test @ w \n",
    "error = np.sum((predict - y_test)*(predict - y_test))/X_test.shape[0]\n",
    "print(f'mean square error on test data for the closed-form solution: {error:.5f}')\n",
    "\n",
    "accuracy = np.count_nonzero(np.equal(np.sign(predict),y_test))/y_test.size*100.0\n",
    "print(f'classification accuracy on test data for the closed-form solution: {accuracy:.2f}%')"
   ]
  },
  {
   "cell_type": "code",
   "execution_count": null,
   "metadata": {
    "colab": {
     "base_uri": "https://localhost:8080/"
    },
    "id": "12GPeyQHKtgQ",
    "outputId": "37630b0d-ae8c-4aa7-b69f-51818effba40"
   },
   "outputs": [
    {
     "name": "stdout",
     "output_type": "stream",
     "text": [
      "Mean squared error on training data: 0.19629\n",
      "Mean squared error on test data: 1.30940\n"
     ]
    }
   ],
   "source": [
    "# use linear regression from sklearn\n",
    "\n",
    "import numpy as np\n",
    "from sklearn import linear_model\n",
    "from sklearn.metrics import mean_squared_error\n",
    "\n",
    "# Create linear regression object\n",
    "l_regr = linear_model.LinearRegression()\n",
    "\n",
    "# Train the model using the training set\n",
    "l_regr.fit(X_train, y_train)\n",
    "\n",
    "# Make predictions using the same training set\n",
    "predict = l_regr.predict(X_train)\n",
    "print(\"Mean squared error on training data: %.5f\" % mean_squared_error(y_train, predict))\n",
    "\n",
    "# Make predictions using the test set\n",
    "predict = l_regr.predict(X_test)\n",
    "print(\"Mean squared error on test data: %.5f\" % mean_squared_error(y_test, predict))"
   ]
  },
  {
   "cell_type": "markdown",
   "metadata": {
    "id": "unkwTtdyMwjK"
   },
   "source": [
    "Next, let us consider to use mini-batch stochastic gradient descent (SGD) to learn linear regression models for this binary classification problem. When we fine-tune any SGD method for a classificaion problem in machline learning, it is very important to monitor the following three learning curves:\n",
    "\n",
    "1.   *Classification Accuracy on the training set* (**curve A**): this is the goal of the empirical risk mininization (ERM) of the zero-one loss for classification (see Eq.(5.6) on page 99).  \n",
    "\n",
    "2.  *Classification Accuracy on an unseen test/development set* (**curve B**): we need to compare the curves **A** and **B** over the learning course to monitor whether overfitting or underfit occurs. Overfitting happens when the gap between **A** and **B** is overly big while underfitting happens when **A** and **B** get very close and both of them yield fairly poor performance. Moreover, we can also monitor the curves  **A** and **B**  to determine when to terminate the learning proces for the best possible performance on the test/devopement set. \n",
    "\n",
    "3.  *The value of the learning objective function* (**curve C**): because the zero-one loss is not directly minimizable, we will have to establish a proxy objective function according to some criteria (see Tabe 7.1 on page 135). These objective functions are closelly related to the zero-one loss but they are NOT the same. When we fine-tune an iterative optimization method, the first thing is to ensure that the value of the chosen objective function descreases over the entire learning course. If we cannot reduce the objective function (even when a sufficiently small learning rate is used), it is very likely that the implementation or code is buggy. Furthermore, if curve **C** is going down while curve **A** is not going up, this is another indicator that someting is still wrong in the implementation. \n"
   ]
  },
  {
   "cell_type": "code",
   "execution_count": null,
   "metadata": {
    "id": "oIwIS_dARYak"
   },
   "outputs": [],
   "source": [
    "# solve linear regression using gradient descent \n",
    "import numpy as np\n",
    "\n",
    "class Optimizer():\n",
    "  def __init__(self, lr, annealing_rate, batch_size, max_epochs):\n",
    "    self.lr = lr\n",
    "    self.annealing_rate = annealing_rate\n",
    "    self.batch_size = batch_size\n",
    "    self.max_epochs = max_epochs\n",
    "\n",
    "# X[N,d]: training features; y[N]: training targets; \n",
    "# X2[N,d]: test features; y2[N]: test targets;  \n",
    "# op: hyper-parameters for optimzer \n",
    "#\n",
    "# Note: X2 and y2 are not used in training\n",
    "#       but only for computting the learning curve B\n",
    "#\n",
    "def linear_regression_gd2(X, y, X2, y2, op):\n",
    "  n = X.shape[0]   # number of samples\n",
    "  w = np.zeros(X.shape[1])  # initialization\n",
    "\n",
    "  lr = op.lr\n",
    "  errorsA = np.zeros(op.max_epochs)\n",
    "  errorsB = np.zeros(op.max_epochs)\n",
    "  errorsC = np.zeros(op.max_epochs)\n",
    "\n",
    "  for epoch in range(op.max_epochs):\n",
    "    indices = np.random.permutation(n)  #randomly shuffle data indices\n",
    "    for batch_start in range(0, n, op.batch_size):\n",
    "      X_batch = X[indices[batch_start:batch_start + op.batch_size]]\n",
    "      y_batch = y[indices[batch_start:batch_start + op.batch_size]]\n",
    "\n",
    "      # vectorization to compute gradients for a whole mini-batch (see the above formula)\n",
    "      w_grad = X_batch.T @ X_batch @ w - X_batch.T @ y_batch \n",
    "\n",
    "      w -= lr * w_grad / X_batch.shape[0] \n",
    "\n",
    "    # for learning curve C\n",
    "    diff = X @ w - y  # prediction difference\n",
    "    errorsC[epoch] = np.sum(diff*diff)/n   \n",
    "\n",
    "    # for learning curve A\n",
    "    predict = np.sign(X @ w)\n",
    "    errorsA[epoch] = np.count_nonzero(np.equal(predict,y))/y.size \n",
    "\n",
    "    # for learning curve B\n",
    "    predict2 = np.sign(X2 @ w)\n",
    "    errorsB[epoch] = np.count_nonzero(np.equal(predict2,y2))/y2.size\n",
    "\n",
    "    lr *= op.annealing_rate\n",
    "    print(f'epoch={epoch}: the mean square error is {errorsC[epoch]:.3f} ({errorsA[epoch]:.3f},{errorsB[epoch]:.3f})')\n",
    "\n",
    "  return w, errorsA, errorsB, errorsC"
   ]
  },
  {
   "cell_type": "code",
   "execution_count": null,
   "metadata": {
    "colab": {
     "base_uri": "https://localhost:8080/",
     "height": 658
    },
    "id": "l94Agxq3r_IE",
    "outputId": "cb36b18e-f59c-4837-9a89-2d90f26aec3a"
   },
   "outputs": [
    {
     "name": "stdout",
     "output_type": "stream",
     "text": [
      "epoch=0: the mean square error is 0.398 (0.911,0.920)\n",
      "epoch=1: the mean square error is 0.309 (0.929,0.942)\n",
      "epoch=2: the mean square error is 0.279 (0.938,0.950)\n",
      "epoch=3: the mean square error is 0.264 (0.945,0.957)\n",
      "epoch=4: the mean square error is 0.254 (0.949,0.959)\n",
      "epoch=5: the mean square error is 0.248 (0.951,0.962)\n",
      "epoch=6: the mean square error is 0.244 (0.953,0.961)\n",
      "epoch=7: the mean square error is 0.240 (0.954,0.962)\n",
      "epoch=8: the mean square error is 0.237 (0.955,0.964)\n",
      "epoch=9: the mean square error is 0.235 (0.956,0.963)\n",
      "epoch=10: the mean square error is 0.234 (0.957,0.963)\n",
      "epoch=11: the mean square error is 0.232 (0.957,0.964)\n",
      "epoch=12: the mean square error is 0.231 (0.958,0.964)\n",
      "epoch=13: the mean square error is 0.230 (0.958,0.964)\n",
      "epoch=14: the mean square error is 0.229 (0.958,0.964)\n",
      "epoch=15: the mean square error is 0.228 (0.959,0.964)\n",
      "epoch=16: the mean square error is 0.227 (0.959,0.962)\n",
      "epoch=17: the mean square error is 0.226 (0.959,0.963)\n",
      "epoch=18: the mean square error is 0.226 (0.959,0.965)\n",
      "epoch=19: the mean square error is 0.225 (0.960,0.965)\n"
     ]
    },
    {
     "data": {
      "text/plain": [
       "<matplotlib.legend.Legend at 0x7ffadb5ad890>"
      ]
     },
     "execution_count": 21,
     "metadata": {},
     "output_type": "execute_result"
    },
    {
     "data": {
      "image/png": "[encoded data removed]",
      "text/plain": [
       "<Figure size 432x288 with 2 Axes>"
      ]
     },
     "metadata": {
      "needs_background": "light"
     },
     "output_type": "display_data"
    }
   ],
   "source": [
    "import matplotlib.pyplot as plt\n",
    "\n",
    "op = Optimizer(lr=0.001, annealing_rate=0.99, batch_size=50, max_epochs=20)\n",
    "\n",
    "w, A, B, C = linear_regression_gd2(X_train, y_train, X_test, y_test, op)\n",
    "\n",
    "fig, ax = plt.subplots(2)\n",
    "fig.suptitle('monitoring three learning curves (A, B, C)')\n",
    "ax[0].plot(C, 'b', 0.196*np.ones(C.shape[0]), 'c--')\n",
    "ax[0].legend(['curve C', 'closed-form solution'])\n",
    "\n",
    "ax[1].plot(A, 'b', B, 'r')\n",
    "ax[1].legend(['curve A', 'curve B'])"
   ]
  },
  {
   "cell_type": "markdown",
   "metadata": {
    "id": "p5JxQEUFAW6f"
   },
   "source": [
    "In the above setting, we use a large mini-batch (50), which leads to fairly smooth convergence. As we can see, even though there is a big gap in the objective function between SGD (curve C) and the closed-form solution, classification accuracy of SGD  exceeds that of the closed-form solution on either the training or  testing set. This indicates that MSE used in linear regression is NOT a good learning criterion for classification (see why in section 7.1.1 on page 136)."
   ]
  },
  {
   "cell_type": "code",
   "execution_count": null,
   "metadata": {
    "colab": {
     "base_uri": "https://localhost:8080/",
     "height": 485
    },
    "id": "JBYVwyd1_GBa",
    "outputId": "6a9950ad-ec4b-4a19-c2a8-0092d6943be4"
   },
   "outputs": [
    {
     "name": "stdout",
     "output_type": "stream",
     "text": [
      "epoch=0: the mean square error is 0.236 (0.956,0.963)\n",
      "epoch=1: the mean square error is 0.224 (0.960,0.964)\n",
      "epoch=2: the mean square error is 0.220 (0.961,0.963)\n",
      "epoch=3: the mean square error is 0.217 (0.962,0.964)\n",
      "epoch=4: the mean square error is 0.215 (0.962,0.963)\n",
      "epoch=5: the mean square error is 0.214 (0.963,0.963)\n",
      "epoch=6: the mean square error is 0.213 (0.964,0.965)\n",
      "epoch=7: the mean square error is 0.215 (0.963,0.962)\n",
      "epoch=8: the mean square error is 0.212 (0.963,0.964)\n",
      "epoch=9: the mean square error is 0.214 (0.963,0.963)\n"
     ]
    },
    {
     "data": {
      "text/plain": [
       "<matplotlib.legend.Legend at 0x7ffadb49df50>"
      ]
     },
     "execution_count": 22,
     "metadata": {},
     "output_type": "execute_result"
    },
    {
     "data": {
      "image/png": "[encoded data removed]",
      "text/plain": [
       "<Figure size 432x288 with 2 Axes>"
      ]
     },
     "metadata": {
      "needs_background": "light"
     },
     "output_type": "display_data"
    }
   ],
   "source": [
    "import matplotlib.pyplot as plt\n",
    "\n",
    "op = Optimizer(lr=0.001, annealing_rate=0.99, batch_size=5, max_epochs=10)\n",
    "\n",
    "w, A, B, C = linear_regression_gd2(X_train, y_train, X_test, y_test, op)\n",
    "\n",
    "fig, ax = plt.subplots(2)\n",
    "fig.suptitle('monitoring three learning curves (A, B, C)')\n",
    "ax[0].plot(C, 'b', 0.196*np.ones(C.shape[0]), 'c--')\n",
    "ax[0].legend(['curve C', 'closed-form solution'])\n",
    "\n",
    "ax[1].plot(A, 'b', B, 'r')\n",
    "ax[1].legend(['curve A', 'curve B'])"
   ]
  },
  {
   "cell_type": "markdown",
   "metadata": {
    "id": "Kx1Qrvs8Cwh7"
   },
   "source": [
    "In this setting, we use the same learning rate but a much smaller mini-batch size. A smaller mini-batch means more model updates in each epoch. As a result, the classification accuracy on the training set (curve **A**) is improved over the previous setting. However, we can see that the classification accuracy on the unseen set (curve **B**) starts to go down after epoch 6, which indicates that we should terminate the learning at epoch 6. "
   ]
  },
  {
   "cell_type": "markdown",
   "metadata": {
    "id": "tCeqrq_VpnVu"
   },
   "source": [
    "## **Exercises**"
   ]
  },
  {
   "cell_type": "markdown",
   "metadata": {
    "id": "6Tq0tDTRpsL4"
   },
   "source": [
    "### **Problem 2.1:**\n",
    "\n",
    "Use Ridge regression to solve the regression problem in Example 2.1 as well as the classification problem in Example 2.2, also implement both closed-form and iterative approachs, compare the results of Ridge regression with those of linear regression."
   ]
  },
  {
   "cell_type": "markdown",
   "metadata": {
    "id": "XcBnidYruTi8"
   },
   "source": [
    "### **Problem 2.2:**\n",
    "\n",
    "Use LASSO to solve the regression problem in Example 2.1 as well as the classification problem in Example 2.2, compare the results of LASSO with those of linear regression and Ridge regression."
   ]
  }
 ],
 "metadata": {
  "accelerator": "GPU",
  "colab": {
   "provenance": []
  },
  "kernelspec": {
   "display_name": "Python 3",
   "language": "python",
   "name": "python3"
  },
  "language_info": {
   "codemirror_mode": {
    "name": "ipython",
    "version": 3
   },
   "file_extension": ".py",
   "mimetype": "text/x-python",
   "name": "python",
   "nbconvert_exporter": "python",
   "pygments_lexer": "ipython3",
   "version": "3.7.0"
  }
 },
 "nbformat": 4,
 "nbformat_minor": 4
}
